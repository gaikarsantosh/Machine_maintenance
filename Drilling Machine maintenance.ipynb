{
 "cells": [
  {
   "cell_type": "code",
   "execution_count": 1,
   "id": "6cf6ab67",
   "metadata": {},
   "outputs": [],
   "source": [
    "import pandas as pd\n",
    "import numpy as np\n",
    "\n",
    "import warnings\n",
    "warnings.filterwarnings(\"ignore\")"
   ]
  },
  {
   "cell_type": "code",
   "execution_count": 2,
   "id": "7e81b3c2",
   "metadata": {},
   "outputs": [],
   "source": [
    "df= pd.read_csv('data_1.csv')"
   ]
  },
  {
   "cell_type": "code",
   "execution_count": 3,
   "id": "9be77b1e",
   "metadata": {},
   "outputs": [
    {
     "data": {
      "text/html": [
       "<div>\n",
       "<style scoped>\n",
       "    .dataframe tbody tr th:only-of-type {\n",
       "        vertical-align: middle;\n",
       "    }\n",
       "\n",
       "    .dataframe tbody tr th {\n",
       "        vertical-align: top;\n",
       "    }\n",
       "\n",
       "    .dataframe thead th {\n",
       "        text-align: right;\n",
       "    }\n",
       "</style>\n",
       "<table border=\"1\" class=\"dataframe\">\n",
       "  <thead>\n",
       "    <tr style=\"text-align: right;\">\n",
       "      <th></th>\n",
       "      <th>UDI</th>\n",
       "      <th>Product ID</th>\n",
       "      <th>Type</th>\n",
       "      <th>Air temperature [K]</th>\n",
       "      <th>Process temperature [K]</th>\n",
       "      <th>Rotational speed [rpm]</th>\n",
       "      <th>Torque [Nm]</th>\n",
       "      <th>Tool wear [min]</th>\n",
       "      <th>Machine failure</th>\n",
       "      <th>TWF</th>\n",
       "      <th>HDF</th>\n",
       "      <th>PWF</th>\n",
       "      <th>OSF</th>\n",
       "      <th>RNF</th>\n",
       "    </tr>\n",
       "  </thead>\n",
       "  <tbody>\n",
       "    <tr>\n",
       "      <th>0</th>\n",
       "      <td>1</td>\n",
       "      <td>M14860</td>\n",
       "      <td>M</td>\n",
       "      <td>298.1</td>\n",
       "      <td>308.6</td>\n",
       "      <td>1551</td>\n",
       "      <td>42.8</td>\n",
       "      <td>0</td>\n",
       "      <td>0</td>\n",
       "      <td>0</td>\n",
       "      <td>0</td>\n",
       "      <td>0</td>\n",
       "      <td>0</td>\n",
       "      <td>0</td>\n",
       "    </tr>\n",
       "    <tr>\n",
       "      <th>1</th>\n",
       "      <td>2</td>\n",
       "      <td>L47181</td>\n",
       "      <td>L</td>\n",
       "      <td>298.2</td>\n",
       "      <td>308.7</td>\n",
       "      <td>1408</td>\n",
       "      <td>46.3</td>\n",
       "      <td>3</td>\n",
       "      <td>0</td>\n",
       "      <td>0</td>\n",
       "      <td>0</td>\n",
       "      <td>0</td>\n",
       "      <td>0</td>\n",
       "      <td>0</td>\n",
       "    </tr>\n",
       "    <tr>\n",
       "      <th>2</th>\n",
       "      <td>3</td>\n",
       "      <td>L47182</td>\n",
       "      <td>L</td>\n",
       "      <td>298.1</td>\n",
       "      <td>308.5</td>\n",
       "      <td>1498</td>\n",
       "      <td>49.4</td>\n",
       "      <td>5</td>\n",
       "      <td>0</td>\n",
       "      <td>0</td>\n",
       "      <td>0</td>\n",
       "      <td>0</td>\n",
       "      <td>0</td>\n",
       "      <td>0</td>\n",
       "    </tr>\n",
       "    <tr>\n",
       "      <th>3</th>\n",
       "      <td>4</td>\n",
       "      <td>L47183</td>\n",
       "      <td>L</td>\n",
       "      <td>298.2</td>\n",
       "      <td>308.6</td>\n",
       "      <td>1433</td>\n",
       "      <td>39.5</td>\n",
       "      <td>7</td>\n",
       "      <td>0</td>\n",
       "      <td>0</td>\n",
       "      <td>0</td>\n",
       "      <td>0</td>\n",
       "      <td>0</td>\n",
       "      <td>0</td>\n",
       "    </tr>\n",
       "    <tr>\n",
       "      <th>4</th>\n",
       "      <td>5</td>\n",
       "      <td>L47184</td>\n",
       "      <td>L</td>\n",
       "      <td>298.2</td>\n",
       "      <td>308.7</td>\n",
       "      <td>1408</td>\n",
       "      <td>40.0</td>\n",
       "      <td>9</td>\n",
       "      <td>0</td>\n",
       "      <td>0</td>\n",
       "      <td>0</td>\n",
       "      <td>0</td>\n",
       "      <td>0</td>\n",
       "      <td>0</td>\n",
       "    </tr>\n",
       "  </tbody>\n",
       "</table>\n",
       "</div>"
      ],
      "text/plain": [
       "   UDI Product ID Type  Air temperature [K]  Process temperature [K]  \\\n",
       "0    1     M14860    M                298.1                    308.6   \n",
       "1    2     L47181    L                298.2                    308.7   \n",
       "2    3     L47182    L                298.1                    308.5   \n",
       "3    4     L47183    L                298.2                    308.6   \n",
       "4    5     L47184    L                298.2                    308.7   \n",
       "\n",
       "   Rotational speed [rpm]  Torque [Nm]  Tool wear [min]  Machine failure  TWF  \\\n",
       "0                    1551         42.8                0                0    0   \n",
       "1                    1408         46.3                3                0    0   \n",
       "2                    1498         49.4                5                0    0   \n",
       "3                    1433         39.5                7                0    0   \n",
       "4                    1408         40.0                9                0    0   \n",
       "\n",
       "   HDF  PWF  OSF  RNF  \n",
       "0    0    0    0    0  \n",
       "1    0    0    0    0  \n",
       "2    0    0    0    0  \n",
       "3    0    0    0    0  \n",
       "4    0    0    0    0  "
      ]
     },
     "execution_count": 3,
     "metadata": {},
     "output_type": "execute_result"
    }
   ],
   "source": [
    "df.head()"
   ]
  },
  {
   "cell_type": "code",
   "execution_count": 8,
   "id": "9b38a7d4",
   "metadata": {},
   "outputs": [
    {
     "name": "stdout",
     "output_type": "stream",
     "text": [
      "<class 'pandas.core.frame.DataFrame'>\n",
      "Int64Index: 10000 entries, 0 to 9999\n",
      "Data columns (total 14 columns):\n",
      " #   Column                   Non-Null Count  Dtype  \n",
      "---  ------                   --------------  -----  \n",
      " 0   UDI                      10000 non-null  int64  \n",
      " 1   Product ID               10000 non-null  object \n",
      " 2   Type                     10000 non-null  object \n",
      " 3   Air temperature [K]      10000 non-null  float64\n",
      " 4   Process temperature [K]  10000 non-null  float64\n",
      " 5   Rotational speed [rpm]   10000 non-null  int64  \n",
      " 6   Torque [Nm]              10000 non-null  float64\n",
      " 7   Tool wear [min]          10000 non-null  int64  \n",
      " 8   Machine failure          10000 non-null  int64  \n",
      " 9   TWF                      10000 non-null  int64  \n",
      " 10  HDF                      10000 non-null  int64  \n",
      " 11  PWF                      10000 non-null  int64  \n",
      " 12  OSF                      10000 non-null  int64  \n",
      " 13  RNF                      10000 non-null  int64  \n",
      "dtypes: float64(3), int64(9), object(2)\n",
      "memory usage: 1.1+ MB\n"
     ]
    }
   ],
   "source": [
    "df.info()"
   ]
  },
  {
   "cell_type": "code",
   "execution_count": 13,
   "id": "96934099",
   "metadata": {},
   "outputs": [],
   "source": [
    "df=df.drop(['UDI','Product ID'],axis=1)"
   ]
  },
  {
   "cell_type": "code",
   "execution_count": 15,
   "id": "650835b1",
   "metadata": {},
   "outputs": [],
   "source": [
    "from sklearn import preprocessing\n",
    "label_encoder = preprocessing.LabelEncoder()\n",
    "\n",
    "df['Type']= label_encoder.fit_transform(df['Type'])"
   ]
  },
  {
   "cell_type": "code",
   "execution_count": 16,
   "id": "8b7bb19c",
   "metadata": {},
   "outputs": [
    {
     "name": "stdout",
     "output_type": "stream",
     "text": [
      "<class 'pandas.core.frame.DataFrame'>\n",
      "Int64Index: 10000 entries, 0 to 9999\n",
      "Data columns (total 12 columns):\n",
      " #   Column                   Non-Null Count  Dtype  \n",
      "---  ------                   --------------  -----  \n",
      " 0   Type                     10000 non-null  int32  \n",
      " 1   Air temperature [K]      10000 non-null  float64\n",
      " 2   Process temperature [K]  10000 non-null  float64\n",
      " 3   Rotational speed [rpm]   10000 non-null  int64  \n",
      " 4   Torque [Nm]              10000 non-null  float64\n",
      " 5   Tool wear [min]          10000 non-null  int64  \n",
      " 6   Machine failure          10000 non-null  int64  \n",
      " 7   TWF                      10000 non-null  int64  \n",
      " 8   HDF                      10000 non-null  int64  \n",
      " 9   PWF                      10000 non-null  int64  \n",
      " 10  OSF                      10000 non-null  int64  \n",
      " 11  RNF                      10000 non-null  int64  \n",
      "dtypes: float64(3), int32(1), int64(8)\n",
      "memory usage: 976.6 KB\n"
     ]
    }
   ],
   "source": [
    "df.info()"
   ]
  },
  {
   "cell_type": "code",
   "execution_count": 17,
   "id": "3bbc516a",
   "metadata": {},
   "outputs": [],
   "source": [
    "df.rename(columns = {'Air temperature [K]':'Air_temp','Process temperature [K]':'Process_temp','Rotational speed [rpm]':'Speed_RPM','Torque [Nm]':'Torque_Nm','Tool wear [min]':'Tool_wear'}, \n",
    "          inplace = True)"
   ]
  },
  {
   "cell_type": "code",
   "execution_count": 18,
   "id": "34e86f9b",
   "metadata": {},
   "outputs": [
    {
     "name": "stdout",
     "output_type": "stream",
     "text": [
      "<class 'pandas.core.frame.DataFrame'>\n",
      "Int64Index: 10000 entries, 0 to 9999\n",
      "Data columns (total 12 columns):\n",
      " #   Column           Non-Null Count  Dtype  \n",
      "---  ------           --------------  -----  \n",
      " 0   Type             10000 non-null  int32  \n",
      " 1   Air_temp         10000 non-null  float64\n",
      " 2   Process_temp     10000 non-null  float64\n",
      " 3   Speed_RPM        10000 non-null  int64  \n",
      " 4   Torque_Nm        10000 non-null  float64\n",
      " 5   Tool_wear        10000 non-null  int64  \n",
      " 6   Machine failure  10000 non-null  int64  \n",
      " 7   TWF              10000 non-null  int64  \n",
      " 8   HDF              10000 non-null  int64  \n",
      " 9   PWF              10000 non-null  int64  \n",
      " 10  OSF              10000 non-null  int64  \n",
      " 11  RNF              10000 non-null  int64  \n",
      "dtypes: float64(3), int32(1), int64(8)\n",
      "memory usage: 976.6 KB\n"
     ]
    }
   ],
   "source": [
    "df.info()"
   ]
  },
  {
   "cell_type": "code",
   "execution_count": 71,
   "id": "7a932744",
   "metadata": {},
   "outputs": [
    {
     "data": {
      "text/html": [
       "<div>\n",
       "<style scoped>\n",
       "    .dataframe tbody tr th:only-of-type {\n",
       "        vertical-align: middle;\n",
       "    }\n",
       "\n",
       "    .dataframe tbody tr th {\n",
       "        vertical-align: top;\n",
       "    }\n",
       "\n",
       "    .dataframe thead th {\n",
       "        text-align: right;\n",
       "    }\n",
       "</style>\n",
       "<table border=\"1\" class=\"dataframe\">\n",
       "  <thead>\n",
       "    <tr style=\"text-align: right;\">\n",
       "      <th></th>\n",
       "      <th>Type</th>\n",
       "      <th>Air_temp</th>\n",
       "      <th>Process_temp</th>\n",
       "      <th>Speed_RPM</th>\n",
       "      <th>Torque_Nm</th>\n",
       "      <th>Tool_wear</th>\n",
       "      <th>Machine failure</th>\n",
       "      <th>TWF</th>\n",
       "      <th>HDF</th>\n",
       "      <th>PWF</th>\n",
       "      <th>OSF</th>\n",
       "      <th>RNF</th>\n",
       "    </tr>\n",
       "  </thead>\n",
       "  <tbody>\n",
       "    <tr>\n",
       "      <th>0</th>\n",
       "      <td>2</td>\n",
       "      <td>298.1</td>\n",
       "      <td>308.6</td>\n",
       "      <td>1551</td>\n",
       "      <td>42.8</td>\n",
       "      <td>0</td>\n",
       "      <td>0</td>\n",
       "      <td>0</td>\n",
       "      <td>0</td>\n",
       "      <td>0</td>\n",
       "      <td>0</td>\n",
       "      <td>0</td>\n",
       "    </tr>\n",
       "    <tr>\n",
       "      <th>1</th>\n",
       "      <td>1</td>\n",
       "      <td>298.2</td>\n",
       "      <td>308.7</td>\n",
       "      <td>1408</td>\n",
       "      <td>46.3</td>\n",
       "      <td>3</td>\n",
       "      <td>0</td>\n",
       "      <td>0</td>\n",
       "      <td>0</td>\n",
       "      <td>0</td>\n",
       "      <td>0</td>\n",
       "      <td>0</td>\n",
       "    </tr>\n",
       "    <tr>\n",
       "      <th>2</th>\n",
       "      <td>1</td>\n",
       "      <td>298.1</td>\n",
       "      <td>308.5</td>\n",
       "      <td>1498</td>\n",
       "      <td>49.4</td>\n",
       "      <td>5</td>\n",
       "      <td>0</td>\n",
       "      <td>0</td>\n",
       "      <td>0</td>\n",
       "      <td>0</td>\n",
       "      <td>0</td>\n",
       "      <td>0</td>\n",
       "    </tr>\n",
       "    <tr>\n",
       "      <th>3</th>\n",
       "      <td>1</td>\n",
       "      <td>298.2</td>\n",
       "      <td>308.6</td>\n",
       "      <td>1433</td>\n",
       "      <td>39.5</td>\n",
       "      <td>7</td>\n",
       "      <td>0</td>\n",
       "      <td>0</td>\n",
       "      <td>0</td>\n",
       "      <td>0</td>\n",
       "      <td>0</td>\n",
       "      <td>0</td>\n",
       "    </tr>\n",
       "    <tr>\n",
       "      <th>4</th>\n",
       "      <td>1</td>\n",
       "      <td>298.2</td>\n",
       "      <td>308.7</td>\n",
       "      <td>1408</td>\n",
       "      <td>40.0</td>\n",
       "      <td>9</td>\n",
       "      <td>0</td>\n",
       "      <td>0</td>\n",
       "      <td>0</td>\n",
       "      <td>0</td>\n",
       "      <td>0</td>\n",
       "      <td>0</td>\n",
       "    </tr>\n",
       "  </tbody>\n",
       "</table>\n",
       "</div>"
      ],
      "text/plain": [
       "   Type  Air_temp  Process_temp  Speed_RPM  Torque_Nm  Tool_wear  \\\n",
       "0     2     298.1         308.6       1551       42.8          0   \n",
       "1     1     298.2         308.7       1408       46.3          3   \n",
       "2     1     298.1         308.5       1498       49.4          5   \n",
       "3     1     298.2         308.6       1433       39.5          7   \n",
       "4     1     298.2         308.7       1408       40.0          9   \n",
       "\n",
       "   Machine failure  TWF  HDF  PWF  OSF  RNF  \n",
       "0                0    0    0    0    0    0  \n",
       "1                0    0    0    0    0    0  \n",
       "2                0    0    0    0    0    0  \n",
       "3                0    0    0    0    0    0  \n",
       "4                0    0    0    0    0    0  "
      ]
     },
     "execution_count": 71,
     "metadata": {},
     "output_type": "execute_result"
    }
   ],
   "source": [
    "df.head()"
   ]
  },
  {
   "cell_type": "code",
   "execution_count": 73,
   "id": "a6f216b1",
   "metadata": {},
   "outputs": [
    {
     "data": {
      "text/html": [
       "<div>\n",
       "<style scoped>\n",
       "    .dataframe tbody tr th:only-of-type {\n",
       "        vertical-align: middle;\n",
       "    }\n",
       "\n",
       "    .dataframe tbody tr th {\n",
       "        vertical-align: top;\n",
       "    }\n",
       "\n",
       "    .dataframe thead th {\n",
       "        text-align: right;\n",
       "    }\n",
       "</style>\n",
       "<table border=\"1\" class=\"dataframe\">\n",
       "  <thead>\n",
       "    <tr style=\"text-align: right;\">\n",
       "      <th></th>\n",
       "      <th>Type</th>\n",
       "      <th>Air_temp</th>\n",
       "      <th>Process_temp</th>\n",
       "      <th>Speed_RPM</th>\n",
       "      <th>Torque_Nm</th>\n",
       "      <th>Tool_wear</th>\n",
       "      <th>Machine failure</th>\n",
       "      <th>TWF</th>\n",
       "      <th>HDF</th>\n",
       "      <th>PWF</th>\n",
       "      <th>OSF</th>\n",
       "      <th>RNF</th>\n",
       "    </tr>\n",
       "  </thead>\n",
       "  <tbody>\n",
       "    <tr>\n",
       "      <th>50</th>\n",
       "      <td>1</td>\n",
       "      <td>298.9</td>\n",
       "      <td>309.1</td>\n",
       "      <td>2861</td>\n",
       "      <td>4.6</td>\n",
       "      <td>143</td>\n",
       "      <td>1</td>\n",
       "      <td>0</td>\n",
       "      <td>0</td>\n",
       "      <td>1</td>\n",
       "      <td>0</td>\n",
       "      <td>0</td>\n",
       "    </tr>\n",
       "    <tr>\n",
       "      <th>69</th>\n",
       "      <td>1</td>\n",
       "      <td>298.9</td>\n",
       "      <td>309.0</td>\n",
       "      <td>1410</td>\n",
       "      <td>65.7</td>\n",
       "      <td>191</td>\n",
       "      <td>1</td>\n",
       "      <td>0</td>\n",
       "      <td>0</td>\n",
       "      <td>1</td>\n",
       "      <td>1</td>\n",
       "      <td>0</td>\n",
       "    </tr>\n",
       "    <tr>\n",
       "      <th>77</th>\n",
       "      <td>1</td>\n",
       "      <td>298.8</td>\n",
       "      <td>308.9</td>\n",
       "      <td>1455</td>\n",
       "      <td>41.3</td>\n",
       "      <td>208</td>\n",
       "      <td>1</td>\n",
       "      <td>1</td>\n",
       "      <td>0</td>\n",
       "      <td>0</td>\n",
       "      <td>0</td>\n",
       "      <td>0</td>\n",
       "    </tr>\n",
       "    <tr>\n",
       "      <th>160</th>\n",
       "      <td>1</td>\n",
       "      <td>298.4</td>\n",
       "      <td>308.2</td>\n",
       "      <td>1282</td>\n",
       "      <td>60.7</td>\n",
       "      <td>216</td>\n",
       "      <td>1</td>\n",
       "      <td>0</td>\n",
       "      <td>0</td>\n",
       "      <td>0</td>\n",
       "      <td>1</td>\n",
       "      <td>0</td>\n",
       "    </tr>\n",
       "    <tr>\n",
       "      <th>161</th>\n",
       "      <td>1</td>\n",
       "      <td>298.3</td>\n",
       "      <td>308.1</td>\n",
       "      <td>1412</td>\n",
       "      <td>52.3</td>\n",
       "      <td>218</td>\n",
       "      <td>1</td>\n",
       "      <td>0</td>\n",
       "      <td>0</td>\n",
       "      <td>0</td>\n",
       "      <td>1</td>\n",
       "      <td>0</td>\n",
       "    </tr>\n",
       "    <tr>\n",
       "      <th>...</th>\n",
       "      <td>...</td>\n",
       "      <td>...</td>\n",
       "      <td>...</td>\n",
       "      <td>...</td>\n",
       "      <td>...</td>\n",
       "      <td>...</td>\n",
       "      <td>...</td>\n",
       "      <td>...</td>\n",
       "      <td>...</td>\n",
       "      <td>...</td>\n",
       "      <td>...</td>\n",
       "      <td>...</td>\n",
       "    </tr>\n",
       "    <tr>\n",
       "      <th>9758</th>\n",
       "      <td>1</td>\n",
       "      <td>298.6</td>\n",
       "      <td>309.8</td>\n",
       "      <td>2271</td>\n",
       "      <td>16.2</td>\n",
       "      <td>218</td>\n",
       "      <td>1</td>\n",
       "      <td>1</td>\n",
       "      <td>0</td>\n",
       "      <td>0</td>\n",
       "      <td>0</td>\n",
       "      <td>0</td>\n",
       "    </tr>\n",
       "    <tr>\n",
       "      <th>9764</th>\n",
       "      <td>1</td>\n",
       "      <td>298.5</td>\n",
       "      <td>309.5</td>\n",
       "      <td>1294</td>\n",
       "      <td>66.7</td>\n",
       "      <td>12</td>\n",
       "      <td>1</td>\n",
       "      <td>0</td>\n",
       "      <td>0</td>\n",
       "      <td>1</td>\n",
       "      <td>0</td>\n",
       "      <td>0</td>\n",
       "    </tr>\n",
       "    <tr>\n",
       "      <th>9822</th>\n",
       "      <td>1</td>\n",
       "      <td>298.5</td>\n",
       "      <td>309.4</td>\n",
       "      <td>1360</td>\n",
       "      <td>60.9</td>\n",
       "      <td>187</td>\n",
       "      <td>1</td>\n",
       "      <td>0</td>\n",
       "      <td>0</td>\n",
       "      <td>0</td>\n",
       "      <td>1</td>\n",
       "      <td>0</td>\n",
       "    </tr>\n",
       "    <tr>\n",
       "      <th>9830</th>\n",
       "      <td>1</td>\n",
       "      <td>298.3</td>\n",
       "      <td>309.3</td>\n",
       "      <td>1337</td>\n",
       "      <td>56.1</td>\n",
       "      <td>206</td>\n",
       "      <td>1</td>\n",
       "      <td>0</td>\n",
       "      <td>0</td>\n",
       "      <td>0</td>\n",
       "      <td>1</td>\n",
       "      <td>0</td>\n",
       "    </tr>\n",
       "    <tr>\n",
       "      <th>9974</th>\n",
       "      <td>1</td>\n",
       "      <td>298.6</td>\n",
       "      <td>308.2</td>\n",
       "      <td>1361</td>\n",
       "      <td>68.2</td>\n",
       "      <td>172</td>\n",
       "      <td>1</td>\n",
       "      <td>0</td>\n",
       "      <td>0</td>\n",
       "      <td>1</td>\n",
       "      <td>1</td>\n",
       "      <td>0</td>\n",
       "    </tr>\n",
       "  </tbody>\n",
       "</table>\n",
       "<p>339 rows × 12 columns</p>\n",
       "</div>"
      ],
      "text/plain": [
       "      Type  Air_temp  Process_temp  Speed_RPM  Torque_Nm  Tool_wear  \\\n",
       "50       1     298.9         309.1       2861        4.6        143   \n",
       "69       1     298.9         309.0       1410       65.7        191   \n",
       "77       1     298.8         308.9       1455       41.3        208   \n",
       "160      1     298.4         308.2       1282       60.7        216   \n",
       "161      1     298.3         308.1       1412       52.3        218   \n",
       "...    ...       ...           ...        ...        ...        ...   \n",
       "9758     1     298.6         309.8       2271       16.2        218   \n",
       "9764     1     298.5         309.5       1294       66.7         12   \n",
       "9822     1     298.5         309.4       1360       60.9        187   \n",
       "9830     1     298.3         309.3       1337       56.1        206   \n",
       "9974     1     298.6         308.2       1361       68.2        172   \n",
       "\n",
       "      Machine failure  TWF  HDF  PWF  OSF  RNF  \n",
       "50                  1    0    0    1    0    0  \n",
       "69                  1    0    0    1    1    0  \n",
       "77                  1    1    0    0    0    0  \n",
       "160                 1    0    0    0    1    0  \n",
       "161                 1    0    0    0    1    0  \n",
       "...               ...  ...  ...  ...  ...  ...  \n",
       "9758                1    1    0    0    0    0  \n",
       "9764                1    0    0    1    0    0  \n",
       "9822                1    0    0    0    1    0  \n",
       "9830                1    0    0    0    1    0  \n",
       "9974                1    0    0    1    1    0  \n",
       "\n",
       "[339 rows x 12 columns]"
      ]
     },
     "execution_count": 73,
     "metadata": {},
     "output_type": "execute_result"
    }
   ],
   "source": [
    "df1=df[df['Machine failure']==1]\n",
    "df1"
   ]
  },
  {
   "cell_type": "code",
   "execution_count": 75,
   "id": "c5b24192",
   "metadata": {
    "scrolled": true
   },
   "outputs": [
    {
     "data": {
      "text/html": [
       "<div>\n",
       "<style scoped>\n",
       "    .dataframe tbody tr th:only-of-type {\n",
       "        vertical-align: middle;\n",
       "    }\n",
       "\n",
       "    .dataframe tbody tr th {\n",
       "        vertical-align: top;\n",
       "    }\n",
       "\n",
       "    .dataframe thead th {\n",
       "        text-align: right;\n",
       "    }\n",
       "</style>\n",
       "<table border=\"1\" class=\"dataframe\">\n",
       "  <thead>\n",
       "    <tr style=\"text-align: right;\">\n",
       "      <th></th>\n",
       "      <th>Type</th>\n",
       "      <th>Air_temp</th>\n",
       "      <th>Process_temp</th>\n",
       "      <th>Speed_RPM</th>\n",
       "      <th>Torque_Nm</th>\n",
       "      <th>Tool_wear</th>\n",
       "      <th>Machine failure</th>\n",
       "      <th>TWF</th>\n",
       "      <th>HDF</th>\n",
       "      <th>PWF</th>\n",
       "      <th>OSF</th>\n",
       "      <th>RNF</th>\n",
       "    </tr>\n",
       "  </thead>\n",
       "  <tbody>\n",
       "    <tr>\n",
       "      <th>count</th>\n",
       "      <td>10000.00000</td>\n",
       "      <td>10000.000000</td>\n",
       "      <td>10000.000000</td>\n",
       "      <td>10000.000000</td>\n",
       "      <td>10000.000000</td>\n",
       "      <td>10000.000000</td>\n",
       "      <td>10000.000000</td>\n",
       "      <td>10000.000000</td>\n",
       "      <td>10000.000000</td>\n",
       "      <td>10000.000000</td>\n",
       "      <td>10000.000000</td>\n",
       "      <td>10000.00000</td>\n",
       "    </tr>\n",
       "    <tr>\n",
       "      <th>mean</th>\n",
       "      <td>1.19940</td>\n",
       "      <td>300.004930</td>\n",
       "      <td>310.005560</td>\n",
       "      <td>1538.776100</td>\n",
       "      <td>39.986910</td>\n",
       "      <td>107.951000</td>\n",
       "      <td>0.033900</td>\n",
       "      <td>0.004600</td>\n",
       "      <td>0.011500</td>\n",
       "      <td>0.009500</td>\n",
       "      <td>0.009800</td>\n",
       "      <td>0.00190</td>\n",
       "    </tr>\n",
       "    <tr>\n",
       "      <th>std</th>\n",
       "      <td>0.60023</td>\n",
       "      <td>2.000259</td>\n",
       "      <td>1.483734</td>\n",
       "      <td>179.284096</td>\n",
       "      <td>9.968934</td>\n",
       "      <td>63.654147</td>\n",
       "      <td>0.180981</td>\n",
       "      <td>0.067671</td>\n",
       "      <td>0.106625</td>\n",
       "      <td>0.097009</td>\n",
       "      <td>0.098514</td>\n",
       "      <td>0.04355</td>\n",
       "    </tr>\n",
       "    <tr>\n",
       "      <th>min</th>\n",
       "      <td>0.00000</td>\n",
       "      <td>295.300000</td>\n",
       "      <td>305.700000</td>\n",
       "      <td>1168.000000</td>\n",
       "      <td>3.800000</td>\n",
       "      <td>0.000000</td>\n",
       "      <td>0.000000</td>\n",
       "      <td>0.000000</td>\n",
       "      <td>0.000000</td>\n",
       "      <td>0.000000</td>\n",
       "      <td>0.000000</td>\n",
       "      <td>0.00000</td>\n",
       "    </tr>\n",
       "    <tr>\n",
       "      <th>25%</th>\n",
       "      <td>1.00000</td>\n",
       "      <td>298.300000</td>\n",
       "      <td>308.800000</td>\n",
       "      <td>1423.000000</td>\n",
       "      <td>33.200000</td>\n",
       "      <td>53.000000</td>\n",
       "      <td>0.000000</td>\n",
       "      <td>0.000000</td>\n",
       "      <td>0.000000</td>\n",
       "      <td>0.000000</td>\n",
       "      <td>0.000000</td>\n",
       "      <td>0.00000</td>\n",
       "    </tr>\n",
       "    <tr>\n",
       "      <th>50%</th>\n",
       "      <td>1.00000</td>\n",
       "      <td>300.100000</td>\n",
       "      <td>310.100000</td>\n",
       "      <td>1503.000000</td>\n",
       "      <td>40.100000</td>\n",
       "      <td>108.000000</td>\n",
       "      <td>0.000000</td>\n",
       "      <td>0.000000</td>\n",
       "      <td>0.000000</td>\n",
       "      <td>0.000000</td>\n",
       "      <td>0.000000</td>\n",
       "      <td>0.00000</td>\n",
       "    </tr>\n",
       "    <tr>\n",
       "      <th>75%</th>\n",
       "      <td>2.00000</td>\n",
       "      <td>301.500000</td>\n",
       "      <td>311.100000</td>\n",
       "      <td>1612.000000</td>\n",
       "      <td>46.800000</td>\n",
       "      <td>162.000000</td>\n",
       "      <td>0.000000</td>\n",
       "      <td>0.000000</td>\n",
       "      <td>0.000000</td>\n",
       "      <td>0.000000</td>\n",
       "      <td>0.000000</td>\n",
       "      <td>0.00000</td>\n",
       "    </tr>\n",
       "    <tr>\n",
       "      <th>max</th>\n",
       "      <td>2.00000</td>\n",
       "      <td>304.500000</td>\n",
       "      <td>313.800000</td>\n",
       "      <td>2886.000000</td>\n",
       "      <td>76.600000</td>\n",
       "      <td>253.000000</td>\n",
       "      <td>1.000000</td>\n",
       "      <td>1.000000</td>\n",
       "      <td>1.000000</td>\n",
       "      <td>1.000000</td>\n",
       "      <td>1.000000</td>\n",
       "      <td>1.00000</td>\n",
       "    </tr>\n",
       "  </tbody>\n",
       "</table>\n",
       "</div>"
      ],
      "text/plain": [
       "              Type      Air_temp  Process_temp     Speed_RPM     Torque_Nm  \\\n",
       "count  10000.00000  10000.000000  10000.000000  10000.000000  10000.000000   \n",
       "mean       1.19940    300.004930    310.005560   1538.776100     39.986910   \n",
       "std        0.60023      2.000259      1.483734    179.284096      9.968934   \n",
       "min        0.00000    295.300000    305.700000   1168.000000      3.800000   \n",
       "25%        1.00000    298.300000    308.800000   1423.000000     33.200000   \n",
       "50%        1.00000    300.100000    310.100000   1503.000000     40.100000   \n",
       "75%        2.00000    301.500000    311.100000   1612.000000     46.800000   \n",
       "max        2.00000    304.500000    313.800000   2886.000000     76.600000   \n",
       "\n",
       "          Tool_wear  Machine failure           TWF           HDF  \\\n",
       "count  10000.000000     10000.000000  10000.000000  10000.000000   \n",
       "mean     107.951000         0.033900      0.004600      0.011500   \n",
       "std       63.654147         0.180981      0.067671      0.106625   \n",
       "min        0.000000         0.000000      0.000000      0.000000   \n",
       "25%       53.000000         0.000000      0.000000      0.000000   \n",
       "50%      108.000000         0.000000      0.000000      0.000000   \n",
       "75%      162.000000         0.000000      0.000000      0.000000   \n",
       "max      253.000000         1.000000      1.000000      1.000000   \n",
       "\n",
       "                PWF           OSF          RNF  \n",
       "count  10000.000000  10000.000000  10000.00000  \n",
       "mean       0.009500      0.009800      0.00190  \n",
       "std        0.097009      0.098514      0.04355  \n",
       "min        0.000000      0.000000      0.00000  \n",
       "25%        0.000000      0.000000      0.00000  \n",
       "50%        0.000000      0.000000      0.00000  \n",
       "75%        0.000000      0.000000      0.00000  \n",
       "max        1.000000      1.000000      1.00000  "
      ]
     },
     "execution_count": 75,
     "metadata": {},
     "output_type": "execute_result"
    }
   ],
   "source": [
    "df.describe()"
   ]
  },
  {
   "cell_type": "code",
   "execution_count": 19,
   "id": "900f7b21",
   "metadata": {},
   "outputs": [],
   "source": [
    "from sklearn.linear_model import LogisticRegression\n",
    "from sklearn.model_selection import train_test_split\n",
    "\n",
    "from sklearn.metrics import mean_absolute_error,mean_squared_error,r2_score"
   ]
  },
  {
   "cell_type": "code",
   "execution_count": 56,
   "id": "9fd144b4",
   "metadata": {},
   "outputs": [],
   "source": [
    "x= df.iloc[:,[0,1,2,3,4,5]]\n",
    "y= df.iloc[:,[6,7,8,9,10,11]]"
   ]
  },
  {
   "cell_type": "code",
   "execution_count": 57,
   "id": "9008a0d9",
   "metadata": {},
   "outputs": [],
   "source": [
    "x_train,x_test,y_train,y_test = train_test_split(x,y,test_size=0.2,random_state=1)"
   ]
  },
  {
   "cell_type": "code",
   "execution_count": 39,
   "id": "851f7ecc",
   "metadata": {},
   "outputs": [
    {
     "data": {
      "text/plain": [
       "LogisticRegression()"
      ]
     },
     "execution_count": 39,
     "metadata": {},
     "output_type": "execute_result"
    }
   ],
   "source": [
    "Log_model = LogisticRegression()\n",
    "Log_model"
   ]
  },
  {
   "cell_type": "raw",
   "id": "1270a88b",
   "metadata": {},
   "source": [
    "Log_model.fit(x_train,y_train)"
   ]
  },
  {
   "cell_type": "raw",
   "id": "9a46cb9e",
   "metadata": {},
   "source": [
    "y_pred= Log_model.predict(x_test)"
   ]
  },
  {
   "cell_type": "raw",
   "id": "a5716be9",
   "metadata": {},
   "source": [
    "from sklearn.metrics import accuracy_score,precision_score,recall_score,f1_score,classification_report,confusion_matrix,roc_auc_score,roc_curve,multilabel_confusion_matrix"
   ]
  },
  {
   "cell_type": "raw",
   "id": "718297e5",
   "metadata": {},
   "source": [
    "cnf_matrix = confusion_matrix(y_test,y_pred)\n",
    "cnf_matrix"
   ]
  },
  {
   "cell_type": "raw",
   "id": "e62d0a09",
   "metadata": {},
   "source": [
    "accuracy_score(y_test,y_pred)"
   ]
  },
  {
   "cell_type": "raw",
   "id": "08c80810",
   "metadata": {},
   "source": [
    "print(classification_report(y_test,y_pred))"
   ]
  },
  {
   "cell_type": "code",
   "execution_count": null,
   "id": "20417cf7",
   "metadata": {},
   "outputs": [],
   "source": []
  },
  {
   "cell_type": "code",
   "execution_count": null,
   "id": "1839dfe7",
   "metadata": {},
   "outputs": [],
   "source": []
  },
  {
   "cell_type": "code",
   "execution_count": 47,
   "id": "e6b87584",
   "metadata": {},
   "outputs": [],
   "source": [
    "from sklearn.neighbors import KNeighborsClassifier"
   ]
  },
  {
   "cell_type": "code",
   "execution_count": 58,
   "id": "03cf6008",
   "metadata": {},
   "outputs": [
    {
     "data": {
      "text/plain": [
       "KNeighborsClassifier()"
      ]
     },
     "execution_count": 58,
     "metadata": {},
     "output_type": "execute_result"
    }
   ],
   "source": [
    "knn_class = KNeighborsClassifier()\n",
    "knn_class.fit(x_train,y_train)"
   ]
  },
  {
   "cell_type": "code",
   "execution_count": 74,
   "id": "ff6b7d07",
   "metadata": {
    "collapsed": true
   },
   "outputs": [
    {
     "name": "stdout",
     "output_type": "stream",
     "text": [
      "[array([0, 0, 0, 0, 0, 0], dtype=int64), array([0, 0, 0, 0, 0, 0], dtype=int64), array([0, 0, 0, 0, 0, 0], dtype=int64), array([0, 0, 0, 0, 0, 0], dtype=int64), array([0, 0, 0, 0, 0, 0], dtype=int64), array([0, 0, 0, 0, 0, 0], dtype=int64), array([0, 0, 0, 0, 0, 0], dtype=int64), array([0, 0, 0, 0, 0, 0], dtype=int64), array([0, 0, 0, 0, 0, 0], dtype=int64), array([0, 0, 0, 0, 0, 0], dtype=int64), array([0, 0, 0, 0, 0, 0], dtype=int64), array([0, 0, 0, 0, 0, 0], dtype=int64), array([0, 0, 0, 0, 0, 0], dtype=int64), array([0, 0, 0, 0, 0, 0], dtype=int64), array([0, 0, 0, 0, 0, 0], dtype=int64), array([0, 0, 0, 0, 0, 0], dtype=int64), array([0, 0, 0, 0, 0, 0], dtype=int64), array([0, 0, 0, 0, 0, 0], dtype=int64), array([0, 0, 0, 0, 0, 0], dtype=int64), array([0, 0, 0, 0, 0, 0], dtype=int64), array([0, 0, 0, 0, 0, 0], dtype=int64), array([0, 0, 0, 0, 0, 0], dtype=int64), array([0, 0, 0, 0, 0, 0], dtype=int64), array([0, 0, 0, 0, 0, 0], dtype=int64), array([0, 0, 0, 0, 0, 0], dtype=int64), array([0, 0, 0, 0, 0, 0], dtype=int64), array([0, 0, 0, 0, 0, 0], dtype=int64), array([0, 0, 0, 0, 0, 0], dtype=int64), array([0, 0, 0, 0, 0, 0], dtype=int64), array([0, 0, 0, 0, 0, 0], dtype=int64), array([0, 0, 0, 0, 0, 0], dtype=int64), array([0, 0, 0, 0, 0, 0], dtype=int64), array([0, 0, 0, 0, 0, 0], dtype=int64), array([0, 0, 0, 0, 0, 0], dtype=int64), array([0, 0, 0, 0, 0, 0], dtype=int64), array([0, 0, 0, 0, 0, 0], dtype=int64), array([0, 0, 0, 0, 0, 0], dtype=int64), array([0, 0, 0, 0, 0, 0], dtype=int64), array([0, 0, 0, 0, 0, 0], dtype=int64), array([0, 0, 0, 0, 0, 0], dtype=int64), array([0, 0, 0, 0, 0, 0], dtype=int64), array([0, 0, 0, 0, 0, 0], dtype=int64), array([0, 0, 0, 0, 0, 0], dtype=int64), array([0, 0, 0, 0, 0, 0], dtype=int64), array([0, 0, 0, 0, 0, 0], dtype=int64), array([0, 0, 0, 0, 0, 0], dtype=int64), array([0, 0, 0, 0, 0, 0], dtype=int64), array([0, 0, 0, 0, 0, 0], dtype=int64), array([0, 0, 0, 0, 0, 0], dtype=int64), array([0, 0, 0, 0, 0, 0], dtype=int64), array([0, 0, 0, 0, 0, 0], dtype=int64), array([0, 0, 0, 0, 0, 0], dtype=int64), array([0, 0, 0, 0, 0, 0], dtype=int64), array([0, 0, 0, 0, 0, 0], dtype=int64), array([0, 0, 0, 0, 0, 0], dtype=int64), array([0, 0, 0, 0, 0, 0], dtype=int64), array([0, 0, 0, 0, 0, 0], dtype=int64), array([0, 0, 0, 0, 0, 0], dtype=int64), array([0, 0, 0, 0, 0, 0], dtype=int64), array([0, 0, 0, 0, 0, 0], dtype=int64), array([0, 0, 0, 0, 0, 0], dtype=int64), array([0, 0, 0, 0, 0, 0], dtype=int64), array([0, 0, 0, 0, 0, 0], dtype=int64), array([0, 0, 0, 0, 0, 0], dtype=int64), array([0, 0, 0, 0, 0, 0], dtype=int64), array([0, 0, 0, 0, 0, 0], dtype=int64), array([0, 0, 0, 0, 0, 0], dtype=int64), array([0, 0, 0, 0, 0, 0], dtype=int64), array([0, 0, 0, 0, 0, 0], dtype=int64), array([0, 0, 0, 0, 0, 0], dtype=int64), array([0, 0, 0, 0, 0, 0], dtype=int64), array([0, 0, 0, 0, 0, 0], dtype=int64), array([0, 0, 0, 0, 0, 0], dtype=int64), array([0, 0, 0, 0, 0, 0], dtype=int64), array([0, 0, 0, 0, 0, 0], dtype=int64), array([1, 0, 0, 0, 1, 0], dtype=int64), array([0, 0, 0, 0, 0, 0], dtype=int64), array([0, 0, 0, 0, 0, 0], dtype=int64), array([0, 0, 0, 0, 0, 0], dtype=int64), array([0, 0, 0, 0, 0, 0], dtype=int64), array([0, 0, 0, 0, 0, 0], dtype=int64), array([0, 0, 0, 0, 0, 0], dtype=int64), array([0, 0, 0, 0, 0, 0], dtype=int64), array([0, 0, 0, 0, 0, 0], dtype=int64), array([0, 0, 0, 0, 0, 0], dtype=int64), array([0, 0, 0, 0, 0, 0], dtype=int64), array([0, 0, 0, 0, 0, 0], dtype=int64), array([0, 0, 0, 0, 0, 0], dtype=int64), array([0, 0, 0, 0, 0, 0], dtype=int64), array([0, 0, 0, 0, 0, 0], dtype=int64), array([0, 0, 0, 0, 0, 0], dtype=int64), array([0, 0, 0, 0, 0, 0], dtype=int64), array([0, 0, 0, 0, 0, 0], dtype=int64), array([0, 0, 0, 0, 0, 0], dtype=int64), array([0, 0, 0, 0, 0, 0], dtype=int64), array([0, 0, 0, 0, 0, 0], dtype=int64), array([0, 0, 0, 0, 0, 0], dtype=int64), array([0, 0, 0, 0, 0, 0], dtype=int64), array([0, 0, 0, 0, 0, 0], dtype=int64), array([0, 0, 0, 0, 0, 0], dtype=int64), array([0, 0, 0, 0, 0, 0], dtype=int64), array([0, 0, 0, 0, 0, 0], dtype=int64), array([0, 0, 0, 0, 0, 0], dtype=int64), array([0, 0, 0, 0, 0, 0], dtype=int64), array([0, 0, 0, 0, 0, 0], dtype=int64), array([0, 0, 0, 0, 0, 0], dtype=int64), array([0, 0, 0, 0, 0, 0], dtype=int64), array([0, 0, 0, 0, 0, 0], dtype=int64), array([0, 0, 0, 0, 0, 0], dtype=int64), array([0, 0, 0, 0, 0, 0], dtype=int64), array([0, 0, 0, 0, 0, 0], dtype=int64), array([0, 0, 0, 0, 0, 0], dtype=int64), array([0, 0, 0, 0, 0, 0], dtype=int64), array([0, 0, 0, 0, 0, 0], dtype=int64), array([0, 0, 0, 0, 0, 0], dtype=int64), array([0, 0, 0, 0, 0, 0], dtype=int64), array([0, 0, 0, 0, 0, 0], dtype=int64), array([0, 0, 0, 0, 0, 0], dtype=int64), array([0, 0, 0, 0, 0, 0], dtype=int64), array([0, 0, 0, 0, 0, 0], dtype=int64), array([0, 0, 0, 0, 0, 0], dtype=int64), array([0, 0, 0, 0, 0, 0], dtype=int64), array([0, 0, 0, 0, 0, 0], dtype=int64), array([0, 0, 0, 0, 0, 0], dtype=int64), array([0, 0, 0, 0, 0, 0], dtype=int64), array([0, 0, 0, 0, 0, 0], dtype=int64), array([0, 0, 0, 0, 0, 0], dtype=int64), array([0, 0, 0, 0, 0, 0], dtype=int64), array([0, 0, 0, 0, 0, 0], dtype=int64), array([0, 0, 0, 0, 0, 0], dtype=int64), array([0, 0, 0, 0, 0, 0], dtype=int64), array([0, 0, 0, 0, 0, 0], dtype=int64), array([0, 0, 0, 0, 0, 0], dtype=int64), array([0, 0, 0, 0, 0, 0], dtype=int64), array([0, 0, 0, 0, 0, 0], dtype=int64), array([0, 0, 0, 0, 0, 0], dtype=int64), array([0, 0, 0, 0, 0, 0], dtype=int64), array([0, 0, 0, 0, 0, 0], dtype=int64), array([0, 0, 0, 0, 0, 0], dtype=int64), array([0, 0, 0, 0, 0, 0], dtype=int64), array([0, 0, 0, 0, 0, 0], dtype=int64), array([0, 0, 0, 0, 0, 0], dtype=int64), array([0, 0, 0, 0, 0, 0], dtype=int64), array([0, 0, 0, 0, 0, 0], dtype=int64), array([0, 0, 0, 0, 0, 0], dtype=int64), array([0, 0, 0, 0, 0, 0], dtype=int64), array([0, 0, 0, 0, 0, 0], dtype=int64), array([0, 0, 0, 0, 0, 0], dtype=int64), array([0, 0, 0, 0, 0, 0], dtype=int64), array([0, 0, 0, 0, 0, 0], dtype=int64), array([0, 0, 0, 0, 0, 0], dtype=int64), array([0, 0, 0, 0, 0, 0], dtype=int64), array([0, 0, 0, 0, 0, 0], dtype=int64), array([0, 0, 0, 0, 0, 0], dtype=int64), array([0, 0, 0, 0, 0, 0], dtype=int64), array([0, 0, 0, 0, 0, 0], dtype=int64), array([0, 0, 0, 0, 0, 0], dtype=int64), array([0, 0, 0, 0, 0, 0], dtype=int64), array([0, 0, 0, 0, 0, 0], dtype=int64), array([0, 0, 0, 0, 0, 0], dtype=int64), array([0, 0, 0, 0, 0, 0], dtype=int64), array([0, 0, 0, 0, 0, 0], dtype=int64), array([0, 0, 0, 0, 0, 0], dtype=int64), array([0, 0, 0, 0, 0, 0], dtype=int64), array([0, 0, 0, 0, 0, 0], dtype=int64), array([0, 0, 0, 0, 0, 0], dtype=int64), array([0, 0, 0, 0, 0, 0], dtype=int64), array([0, 0, 0, 0, 0, 0], dtype=int64), array([0, 0, 0, 0, 0, 0], dtype=int64), array([0, 0, 0, 0, 0, 0], dtype=int64), array([0, 0, 0, 0, 0, 0], dtype=int64), array([0, 0, 0, 0, 0, 0], dtype=int64), array([1, 0, 0, 1, 0, 0], dtype=int64), array([0, 0, 0, 0, 0, 0], dtype=int64), array([0, 0, 0, 0, 0, 0], dtype=int64), array([0, 0, 0, 0, 0, 0], dtype=int64), array([0, 0, 0, 0, 0, 0], dtype=int64), array([0, 0, 0, 0, 0, 0], dtype=int64), array([0, 0, 0, 0, 0, 0], dtype=int64), array([0, 0, 0, 0, 0, 0], dtype=int64), array([0, 0, 0, 0, 0, 0], dtype=int64), array([0, 0, 0, 0, 0, 0], dtype=int64), array([0, 0, 0, 0, 0, 0], dtype=int64), array([0, 0, 0, 0, 0, 0], dtype=int64), array([0, 0, 0, 0, 0, 0], dtype=int64), array([0, 0, 0, 0, 0, 0], dtype=int64), array([0, 0, 0, 0, 0, 0], dtype=int64), array([0, 0, 0, 0, 0, 0], dtype=int64), array([0, 0, 0, 0, 0, 0], dtype=int64), array([0, 0, 0, 0, 0, 0], dtype=int64), array([0, 0, 0, 0, 0, 0], dtype=int64), array([0, 0, 0, 0, 0, 0], dtype=int64), array([0, 0, 0, 0, 0, 0], dtype=int64), array([0, 0, 0, 0, 0, 0], dtype=int64), array([0, 0, 0, 0, 0, 0], dtype=int64), array([0, 0, 0, 0, 0, 0], dtype=int64), array([0, 0, 0, 0, 0, 0], dtype=int64), array([0, 0, 0, 0, 0, 0], dtype=int64), array([1, 0, 0, 0, 1, 0], dtype=int64), array([0, 0, 0, 0, 0, 0], dtype=int64), array([0, 0, 0, 0, 0, 0], dtype=int64), array([0, 0, 0, 0, 0, 0], dtype=int64), array([0, 0, 0, 0, 0, 0], dtype=int64), array([0, 0, 0, 0, 0, 0], dtype=int64), array([0, 0, 0, 0, 0, 0], dtype=int64), array([0, 0, 0, 0, 0, 0], dtype=int64), array([0, 0, 0, 0, 0, 0], dtype=int64), array([0, 0, 0, 0, 0, 0], dtype=int64), array([0, 0, 0, 0, 0, 0], dtype=int64), array([0, 0, 0, 0, 0, 0], dtype=int64), array([0, 0, 0, 0, 0, 0], dtype=int64), array([0, 0, 0, 0, 0, 0], dtype=int64), array([0, 0, 0, 0, 0, 0], dtype=int64), array([0, 0, 0, 0, 0, 0], dtype=int64), array([0, 0, 0, 0, 0, 0], dtype=int64), array([0, 0, 0, 0, 0, 0], dtype=int64), array([0, 0, 0, 0, 0, 0], dtype=int64), array([0, 0, 0, 0, 0, 0], dtype=int64), array([0, 0, 0, 0, 0, 0], dtype=int64), array([0, 0, 0, 0, 0, 0], dtype=int64), array([0, 0, 0, 0, 0, 0], dtype=int64), array([0, 0, 0, 0, 0, 0], dtype=int64), array([0, 0, 0, 0, 0, 0], dtype=int64), array([0, 0, 0, 0, 0, 0], dtype=int64), array([0, 0, 0, 0, 0, 0], dtype=int64), array([0, 0, 0, 0, 0, 0], dtype=int64), array([0, 0, 0, 0, 0, 0], dtype=int64), array([0, 0, 0, 0, 0, 0], dtype=int64), array([0, 0, 0, 0, 0, 0], dtype=int64), array([0, 0, 0, 0, 0, 0], dtype=int64), array([0, 0, 0, 0, 0, 0], dtype=int64), array([0, 0, 0, 0, 0, 0], dtype=int64), array([0, 0, 0, 0, 0, 0], dtype=int64), array([0, 0, 0, 0, 0, 0], dtype=int64), array([0, 0, 0, 0, 0, 0], dtype=int64), array([0, 0, 0, 0, 0, 0], dtype=int64), array([0, 0, 0, 0, 0, 0], dtype=int64), array([0, 0, 0, 0, 0, 0], dtype=int64), array([0, 0, 0, 0, 0, 0], dtype=int64), array([0, 0, 0, 0, 0, 0], dtype=int64), array([0, 0, 0, 0, 0, 0], dtype=int64), array([0, 0, 0, 0, 0, 0], dtype=int64), array([0, 0, 0, 0, 0, 0], dtype=int64), array([0, 0, 0, 0, 0, 0], dtype=int64), array([0, 0, 0, 0, 0, 0], dtype=int64), array([0, 0, 0, 0, 0, 0], dtype=int64), array([0, 0, 0, 0, 0, 0], dtype=int64), array([0, 0, 0, 0, 0, 0], dtype=int64), array([0, 0, 0, 0, 0, 0], dtype=int64), array([0, 0, 0, 0, 0, 0], dtype=int64), array([0, 0, 0, 0, 0, 0], dtype=int64), array([0, 0, 0, 0, 0, 0], dtype=int64), array([0, 0, 0, 0, 0, 0], dtype=int64), array([0, 0, 0, 0, 0, 0], dtype=int64), array([0, 0, 0, 0, 0, 0], dtype=int64), array([0, 0, 0, 0, 0, 0], dtype=int64), array([0, 0, 0, 0, 0, 0], dtype=int64), array([0, 0, 0, 0, 0, 0], dtype=int64), array([0, 0, 0, 0, 0, 0], dtype=int64), array([0, 0, 0, 0, 0, 0], dtype=int64), array([0, 0, 0, 0, 0, 0], dtype=int64), array([0, 0, 0, 0, 0, 0], dtype=int64), array([0, 0, 0, 0, 0, 0], dtype=int64), array([0, 0, 0, 0, 0, 0], dtype=int64), array([0, 0, 0, 0, 0, 0], dtype=int64), array([0, 0, 0, 0, 0, 0], dtype=int64), array([0, 0, 0, 0, 0, 0], dtype=int64), array([0, 0, 0, 0, 0, 0], dtype=int64), array([0, 0, 0, 0, 0, 0], dtype=int64), array([0, 0, 0, 0, 0, 0], dtype=int64), array([0, 0, 0, 0, 0, 0], dtype=int64), array([0, 0, 0, 0, 0, 0], dtype=int64), array([0, 0, 0, 0, 0, 0], dtype=int64), array([0, 0, 0, 0, 0, 0], dtype=int64), array([0, 0, 0, 0, 0, 0], dtype=int64), array([0, 0, 0, 0, 0, 0], dtype=int64), array([0, 0, 0, 0, 0, 0], dtype=int64), array([0, 0, 0, 0, 0, 0], dtype=int64), array([0, 0, 0, 0, 0, 0], dtype=int64), array([0, 0, 0, 0, 0, 0], dtype=int64), array([0, 0, 0, 0, 0, 0], dtype=int64), array([0, 0, 0, 0, 0, 0], dtype=int64), array([0, 0, 0, 0, 0, 0], dtype=int64), array([0, 0, 0, 0, 0, 0], dtype=int64), array([0, 0, 0, 0, 0, 0], dtype=int64), array([0, 0, 0, 0, 0, 0], dtype=int64), array([0, 0, 0, 0, 0, 0], dtype=int64), array([0, 0, 0, 0, 0, 0], dtype=int64), array([0, 0, 0, 0, 0, 0], dtype=int64), array([0, 0, 0, 0, 0, 0], dtype=int64), array([0, 0, 0, 0, 0, 0], dtype=int64), array([0, 0, 0, 0, 0, 0], dtype=int64), array([0, 0, 0, 0, 0, 0], dtype=int64), array([0, 0, 0, 0, 0, 0], dtype=int64), array([0, 0, 0, 0, 0, 0], dtype=int64), array([0, 0, 0, 0, 0, 0], dtype=int64), array([0, 0, 0, 0, 0, 0], dtype=int64), array([0, 0, 0, 0, 0, 0], dtype=int64), array([0, 0, 0, 0, 0, 0], dtype=int64), array([0, 0, 0, 0, 0, 0], dtype=int64), array([0, 0, 0, 0, 0, 0], dtype=int64), array([0, 0, 0, 0, 0, 0], dtype=int64), array([1, 0, 0, 0, 1, 0], dtype=int64), array([0, 0, 0, 0, 0, 0], dtype=int64), array([0, 0, 0, 0, 0, 0], dtype=int64), array([0, 0, 0, 0, 0, 0], dtype=int64), array([0, 0, 0, 0, 0, 0], dtype=int64), array([0, 0, 0, 0, 0, 0], dtype=int64), array([0, 0, 0, 0, 0, 0], dtype=int64), array([0, 0, 0, 0, 0, 0], dtype=int64), array([0, 0, 0, 0, 0, 0], dtype=int64), array([0, 0, 0, 0, 0, 0], dtype=int64), array([0, 0, 0, 0, 0, 0], dtype=int64), array([0, 0, 0, 0, 0, 0], dtype=int64), array([0, 0, 0, 0, 0, 0], dtype=int64), array([0, 0, 0, 0, 0, 0], dtype=int64), array([0, 0, 0, 0, 0, 0], dtype=int64), array([0, 0, 0, 0, 0, 0], dtype=int64), array([0, 0, 0, 0, 0, 0], dtype=int64), array([0, 0, 0, 0, 0, 0], dtype=int64), array([0, 0, 0, 0, 0, 0], dtype=int64), array([0, 0, 0, 0, 0, 0], dtype=int64), array([0, 0, 0, 0, 0, 0], dtype=int64), array([0, 0, 0, 0, 0, 0], dtype=int64), array([0, 0, 0, 0, 0, 0], dtype=int64), array([0, 0, 0, 0, 0, 0], dtype=int64), array([0, 0, 0, 0, 0, 0], dtype=int64), array([0, 0, 0, 0, 0, 0], dtype=int64), array([0, 0, 0, 0, 0, 0], dtype=int64), array([0, 0, 0, 0, 0, 0], dtype=int64), array([0, 0, 0, 0, 0, 0], dtype=int64), array([0, 0, 0, 0, 0, 0], dtype=int64), array([0, 0, 0, 0, 0, 0], dtype=int64), array([0, 0, 0, 0, 0, 0], dtype=int64), array([0, 0, 0, 0, 0, 0], dtype=int64), array([0, 0, 0, 0, 0, 0], dtype=int64), array([0, 0, 0, 0, 0, 0], dtype=int64), array([0, 0, 0, 0, 0, 0], dtype=int64), array([0, 0, 0, 0, 0, 0], dtype=int64), array([0, 0, 0, 0, 0, 0], dtype=int64), array([0, 0, 0, 0, 0, 0], dtype=int64), array([0, 0, 0, 0, 0, 0], dtype=int64), array([0, 0, 0, 0, 0, 0], dtype=int64), array([0, 0, 0, 0, 0, 0], dtype=int64), array([0, 0, 0, 0, 0, 0], dtype=int64), array([0, 0, 0, 0, 0, 0], dtype=int64), array([0, 0, 0, 0, 0, 0], dtype=int64), array([0, 0, 0, 0, 0, 0], dtype=int64), array([0, 0, 0, 0, 0, 0], dtype=int64), array([0, 0, 0, 0, 0, 0], dtype=int64), array([0, 0, 0, 0, 0, 0], dtype=int64), array([0, 0, 0, 0, 0, 0], dtype=int64), array([0, 0, 0, 0, 0, 0], dtype=int64), array([0, 0, 0, 0, 0, 0], dtype=int64), array([0, 0, 0, 0, 0, 0], dtype=int64), array([0, 0, 0, 0, 0, 0], dtype=int64), array([0, 0, 0, 0, 0, 0], dtype=int64), array([0, 0, 0, 0, 0, 0], dtype=int64), array([0, 0, 0, 0, 0, 0], dtype=int64), array([0, 0, 0, 0, 0, 0], dtype=int64), array([0, 0, 0, 0, 0, 0], dtype=int64), array([0, 0, 0, 0, 0, 0], dtype=int64), array([0, 0, 0, 0, 0, 0], dtype=int64), array([0, 0, 0, 0, 0, 0], dtype=int64), array([0, 0, 0, 0, 0, 0], dtype=int64), array([0, 0, 0, 0, 0, 0], dtype=int64), array([0, 0, 0, 0, 0, 0], dtype=int64), array([0, 0, 0, 0, 0, 0], dtype=int64), array([0, 0, 0, 0, 0, 0], dtype=int64), array([0, 0, 0, 0, 0, 0], dtype=int64), array([0, 0, 0, 0, 0, 0], dtype=int64), array([0, 0, 0, 0, 0, 0], dtype=int64), array([0, 0, 0, 0, 0, 0], dtype=int64), array([0, 0, 0, 0, 0, 0], dtype=int64), array([0, 0, 0, 0, 0, 0], dtype=int64), array([0, 0, 0, 0, 0, 0], dtype=int64), array([0, 0, 0, 0, 0, 0], dtype=int64), array([0, 0, 0, 0, 0, 0], dtype=int64), array([0, 0, 0, 0, 0, 0], dtype=int64), array([0, 0, 0, 0, 0, 0], dtype=int64), array([0, 0, 0, 0, 0, 0], dtype=int64), array([0, 0, 0, 0, 0, 0], dtype=int64), array([0, 0, 0, 0, 0, 0], dtype=int64), array([0, 0, 0, 0, 0, 0], dtype=int64), array([0, 0, 0, 0, 0, 0], dtype=int64), array([0, 0, 0, 0, 0, 0], dtype=int64), array([0, 0, 0, 0, 0, 0], dtype=int64), array([1, 0, 0, 1, 0, 0], dtype=int64), array([0, 0, 0, 0, 0, 0], dtype=int64), array([0, 0, 0, 0, 0, 0], dtype=int64), array([0, 0, 0, 0, 0, 0], dtype=int64), array([0, 0, 0, 0, 0, 0], dtype=int64), array([0, 0, 0, 0, 0, 0], dtype=int64), array([0, 0, 0, 0, 0, 0], dtype=int64), array([0, 0, 0, 0, 0, 0], dtype=int64), array([0, 0, 0, 0, 0, 0], dtype=int64), array([0, 0, 0, 0, 0, 0], dtype=int64), array([0, 0, 0, 0, 0, 0], dtype=int64), array([0, 0, 0, 0, 0, 0], dtype=int64), array([0, 0, 0, 0, 0, 0], dtype=int64), array([0, 0, 0, 0, 0, 0], dtype=int64), array([1, 0, 0, 0, 1, 0], dtype=int64), array([0, 0, 0, 0, 0, 0], dtype=int64), array([0, 0, 0, 0, 0, 0], dtype=int64), array([0, 0, 0, 0, 0, 0], dtype=int64), array([0, 0, 0, 0, 0, 0], dtype=int64), array([0, 0, 0, 0, 0, 0], dtype=int64), array([0, 0, 0, 0, 0, 0], dtype=int64), array([0, 0, 0, 0, 0, 0], dtype=int64), array([0, 0, 0, 0, 0, 0], dtype=int64), array([0, 0, 0, 0, 0, 0], dtype=int64), array([0, 0, 0, 0, 0, 0], dtype=int64), array([0, 0, 0, 0, 0, 0], dtype=int64), array([0, 0, 0, 0, 0, 0], dtype=int64), array([0, 0, 0, 0, 0, 0], dtype=int64), array([0, 0, 0, 0, 0, 0], dtype=int64), array([0, 0, 0, 0, 0, 0], dtype=int64), array([0, 0, 0, 0, 0, 0], dtype=int64), array([0, 0, 0, 0, 0, 0], dtype=int64), array([0, 0, 0, 0, 0, 0], dtype=int64), array([0, 0, 0, 0, 0, 0], dtype=int64), array([0, 0, 0, 0, 0, 0], dtype=int64), array([0, 0, 0, 0, 0, 0], dtype=int64), array([0, 0, 0, 0, 0, 0], dtype=int64), array([0, 0, 0, 0, 0, 0], dtype=int64), array([0, 0, 0, 0, 0, 0], dtype=int64), array([0, 0, 0, 0, 0, 0], dtype=int64), array([0, 0, 0, 0, 0, 0], dtype=int64), array([0, 0, 0, 0, 0, 0], dtype=int64), array([0, 0, 0, 0, 0, 0], dtype=int64), array([0, 0, 0, 0, 0, 0], dtype=int64), array([0, 0, 0, 0, 0, 0], dtype=int64), array([0, 0, 0, 0, 0, 0], dtype=int64), array([0, 0, 0, 0, 0, 0], dtype=int64), array([0, 0, 0, 0, 0, 0], dtype=int64), array([0, 0, 0, 0, 0, 0], dtype=int64), array([1, 0, 0, 0, 1, 0], dtype=int64), array([0, 0, 0, 0, 0, 0], dtype=int64), array([0, 0, 0, 0, 0, 0], dtype=int64), array([0, 0, 0, 0, 0, 0], dtype=int64), array([0, 0, 0, 0, 0, 0], dtype=int64), array([0, 0, 0, 0, 0, 0], dtype=int64), array([0, 0, 0, 0, 0, 0], dtype=int64), array([0, 0, 0, 0, 0, 0], dtype=int64), array([0, 0, 0, 0, 0, 0], dtype=int64), array([0, 0, 0, 0, 0, 0], dtype=int64), array([0, 0, 0, 0, 0, 0], dtype=int64), array([0, 0, 0, 0, 0, 0], dtype=int64), array([0, 0, 0, 0, 0, 0], dtype=int64), array([0, 0, 0, 0, 0, 0], dtype=int64), array([0, 0, 0, 0, 0, 0], dtype=int64), array([0, 0, 0, 0, 0, 0], dtype=int64), array([0, 0, 0, 0, 0, 0], dtype=int64), array([0, 0, 0, 0, 0, 0], dtype=int64), array([0, 0, 0, 0, 0, 0], dtype=int64), array([0, 0, 0, 0, 0, 0], dtype=int64), array([0, 0, 0, 0, 0, 0], dtype=int64), array([0, 0, 0, 0, 0, 0], dtype=int64), array([0, 0, 0, 0, 0, 0], dtype=int64), array([0, 0, 0, 0, 0, 0], dtype=int64), array([0, 0, 0, 0, 0, 0], dtype=int64), array([1, 0, 0, 1, 0, 0], dtype=int64), array([0, 0, 0, 0, 0, 0], dtype=int64), array([0, 0, 0, 0, 0, 0], dtype=int64), array([0, 0, 0, 0, 0, 0], dtype=int64), array([0, 0, 0, 0, 0, 0], dtype=int64), array([0, 0, 0, 0, 0, 0], dtype=int64), array([0, 0, 0, 0, 0, 0], dtype=int64), array([0, 0, 0, 0, 0, 0], dtype=int64), array([0, 0, 0, 0, 0, 0], dtype=int64), array([0, 0, 0, 0, 0, 0], dtype=int64), array([0, 0, 0, 0, 0, 0], dtype=int64), array([0, 0, 0, 0, 0, 0], dtype=int64), array([0, 0, 0, 0, 0, 0], dtype=int64), array([0, 0, 0, 0, 0, 0], dtype=int64), array([0, 0, 0, 0, 0, 0], dtype=int64), array([0, 0, 0, 0, 0, 0], dtype=int64), array([0, 0, 0, 0, 0, 0], dtype=int64), array([0, 0, 0, 0, 0, 0], dtype=int64), array([0, 0, 0, 0, 0, 0], dtype=int64), array([0, 0, 0, 0, 0, 0], dtype=int64), array([0, 0, 0, 0, 0, 0], dtype=int64), array([0, 0, 0, 0, 0, 0], dtype=int64), array([0, 0, 0, 0, 0, 0], dtype=int64), array([0, 0, 0, 0, 0, 0], dtype=int64), array([0, 0, 0, 0, 0, 0], dtype=int64), array([0, 0, 0, 0, 0, 0], dtype=int64), array([0, 0, 0, 0, 0, 0], dtype=int64), array([0, 0, 0, 0, 0, 0], dtype=int64), array([0, 0, 0, 0, 0, 0], dtype=int64), array([0, 0, 0, 0, 0, 0], dtype=int64), array([0, 0, 0, 0, 0, 0], dtype=int64), array([0, 0, 0, 0, 0, 0], dtype=int64), array([0, 0, 0, 0, 0, 0], dtype=int64), array([0, 0, 0, 0, 0, 0], dtype=int64), array([0, 0, 0, 0, 0, 0], dtype=int64), array([0, 0, 0, 0, 0, 0], dtype=int64), array([0, 0, 0, 0, 0, 0], dtype=int64), array([0, 0, 0, 0, 0, 0], dtype=int64), array([0, 0, 0, 0, 0, 0], dtype=int64), array([0, 0, 0, 0, 0, 0], dtype=int64), array([0, 0, 0, 0, 0, 0], dtype=int64), array([0, 0, 0, 0, 0, 0], dtype=int64), array([0, 0, 0, 0, 0, 0], dtype=int64), array([0, 0, 0, 0, 0, 0], dtype=int64), array([0, 0, 0, 0, 0, 0], dtype=int64), array([0, 0, 0, 0, 0, 0], dtype=int64), array([0, 0, 0, 0, 0, 0], dtype=int64), array([0, 0, 0, 0, 0, 0], dtype=int64), array([0, 0, 0, 0, 0, 0], dtype=int64), array([0, 0, 0, 0, 0, 0], dtype=int64), array([0, 0, 0, 0, 0, 0], dtype=int64), array([0, 0, 0, 0, 0, 0], dtype=int64), array([0, 0, 0, 0, 0, 0], dtype=int64), array([0, 0, 0, 0, 0, 0], dtype=int64), array([0, 0, 0, 0, 0, 0], dtype=int64), array([0, 0, 0, 0, 0, 0], dtype=int64), array([0, 0, 0, 0, 0, 0], dtype=int64), array([0, 0, 0, 0, 0, 0], dtype=int64), array([0, 0, 0, 0, 0, 0], dtype=int64), array([0, 0, 0, 0, 0, 0], dtype=int64), array([0, 0, 0, 0, 0, 0], dtype=int64), array([0, 0, 0, 0, 0, 0], dtype=int64), array([0, 0, 0, 0, 0, 0], dtype=int64), array([0, 0, 0, 0, 0, 0], dtype=int64), array([0, 0, 0, 0, 0, 0], dtype=int64), array([0, 0, 0, 0, 0, 0], dtype=int64), array([0, 0, 0, 0, 0, 0], dtype=int64), array([0, 0, 0, 0, 0, 0], dtype=int64), array([0, 0, 0, 0, 0, 0], dtype=int64), array([0, 0, 0, 0, 0, 0], dtype=int64), array([0, 0, 0, 0, 0, 0], dtype=int64), array([0, 0, 0, 0, 0, 0], dtype=int64), array([0, 0, 0, 0, 0, 0], dtype=int64), array([0, 0, 0, 0, 0, 0], dtype=int64), array([0, 0, 0, 0, 0, 0], dtype=int64), array([0, 0, 0, 0, 0, 0], dtype=int64), array([0, 0, 0, 0, 0, 0], dtype=int64), array([0, 0, 0, 0, 0, 0], dtype=int64), array([0, 0, 0, 0, 0, 0], dtype=int64), array([0, 0, 0, 0, 0, 0], dtype=int64), array([0, 0, 0, 0, 0, 0], dtype=int64), array([0, 0, 0, 0, 0, 0], dtype=int64), array([0, 0, 0, 0, 0, 0], dtype=int64), array([0, 0, 0, 0, 0, 0], dtype=int64), array([0, 0, 0, 0, 0, 0], dtype=int64), array([0, 0, 0, 0, 0, 0], dtype=int64), array([0, 0, 0, 0, 0, 0], dtype=int64), array([0, 0, 0, 0, 0, 0], dtype=int64), array([0, 0, 0, 0, 0, 0], dtype=int64), array([0, 0, 0, 0, 0, 0], dtype=int64), array([0, 0, 0, 0, 0, 0], dtype=int64), array([0, 0, 0, 0, 0, 0], dtype=int64), array([0, 0, 0, 0, 0, 0], dtype=int64), array([0, 0, 0, 0, 0, 0], dtype=int64), array([0, 0, 0, 0, 0, 0], dtype=int64), array([0, 0, 0, 0, 0, 0], dtype=int64), array([0, 0, 0, 0, 0, 0], dtype=int64), array([0, 0, 0, 0, 0, 0], dtype=int64), array([0, 0, 0, 0, 0, 0], dtype=int64), array([0, 0, 0, 0, 0, 0], dtype=int64), array([0, 0, 0, 0, 0, 0], dtype=int64), array([0, 0, 0, 0, 0, 0], dtype=int64), array([0, 0, 0, 0, 0, 0], dtype=int64), array([0, 0, 0, 0, 0, 0], dtype=int64), array([0, 0, 0, 0, 0, 0], dtype=int64), array([0, 0, 0, 0, 0, 0], dtype=int64), array([0, 0, 0, 0, 0, 0], dtype=int64), array([0, 0, 0, 0, 0, 0], dtype=int64), array([0, 0, 0, 0, 0, 0], dtype=int64), array([0, 0, 0, 0, 0, 0], dtype=int64), array([0, 0, 0, 0, 0, 0], dtype=int64), array([0, 0, 0, 0, 0, 0], dtype=int64), array([0, 0, 0, 0, 0, 0], dtype=int64), array([0, 0, 0, 0, 0, 0], dtype=int64), array([0, 0, 0, 0, 0, 0], dtype=int64), array([0, 0, 0, 0, 0, 0], dtype=int64), array([0, 0, 0, 0, 0, 0], dtype=int64), array([0, 0, 0, 0, 0, 0], dtype=int64), array([0, 0, 0, 0, 0, 0], dtype=int64), array([0, 0, 0, 0, 0, 0], dtype=int64), array([0, 0, 0, 0, 0, 0], dtype=int64), array([0, 0, 0, 0, 0, 0], dtype=int64), array([0, 0, 0, 0, 0, 0], dtype=int64), array([0, 0, 0, 0, 0, 0], dtype=int64), array([0, 0, 0, 0, 0, 0], dtype=int64), array([0, 0, 0, 0, 0, 0], dtype=int64), array([0, 0, 0, 0, 0, 0], dtype=int64), array([0, 0, 0, 0, 0, 0], dtype=int64), array([0, 0, 0, 0, 0, 0], dtype=int64), array([0, 0, 0, 0, 0, 0], dtype=int64), array([0, 0, 0, 0, 0, 0], dtype=int64), array([0, 0, 0, 0, 0, 0], dtype=int64), array([0, 0, 0, 0, 0, 0], dtype=int64), array([0, 0, 0, 0, 0, 0], dtype=int64), array([0, 0, 0, 0, 0, 0], dtype=int64), array([0, 0, 0, 0, 0, 0], dtype=int64), array([0, 0, 0, 0, 0, 0], dtype=int64), array([0, 0, 0, 0, 0, 0], dtype=int64), array([0, 0, 0, 0, 0, 0], dtype=int64), array([0, 0, 0, 0, 0, 0], dtype=int64), array([0, 0, 0, 0, 0, 0], dtype=int64), array([0, 0, 0, 0, 0, 0], dtype=int64), array([0, 0, 0, 0, 0, 0], dtype=int64), array([0, 0, 0, 0, 0, 0], dtype=int64), array([0, 0, 0, 0, 0, 0], dtype=int64), array([0, 0, 0, 0, 0, 0], dtype=int64), array([0, 0, 0, 0, 0, 0], dtype=int64), array([0, 0, 0, 0, 0, 0], dtype=int64), array([0, 0, 0, 0, 0, 0], dtype=int64), array([0, 0, 0, 0, 0, 0], dtype=int64), array([0, 0, 0, 0, 0, 0], dtype=int64), array([0, 0, 0, 0, 0, 0], dtype=int64), array([0, 0, 0, 0, 0, 0], dtype=int64), array([0, 0, 0, 0, 0, 0], dtype=int64), array([0, 0, 0, 0, 0, 0], dtype=int64), array([0, 0, 0, 0, 0, 0], dtype=int64), array([0, 0, 0, 0, 0, 0], dtype=int64), array([0, 0, 0, 0, 0, 0], dtype=int64), array([0, 0, 0, 0, 0, 0], dtype=int64), array([0, 0, 0, 0, 0, 0], dtype=int64), array([0, 0, 0, 0, 0, 0], dtype=int64), array([0, 0, 0, 0, 0, 0], dtype=int64), array([0, 0, 0, 0, 0, 0], dtype=int64), array([0, 0, 0, 0, 0, 0], dtype=int64), array([0, 0, 0, 0, 0, 0], dtype=int64), array([0, 0, 0, 0, 0, 0], dtype=int64), array([0, 0, 0, 0, 0, 0], dtype=int64), array([0, 0, 0, 0, 0, 0], dtype=int64), array([0, 0, 0, 0, 0, 0], dtype=int64), array([0, 0, 0, 0, 0, 0], dtype=int64), array([0, 0, 0, 0, 0, 0], dtype=int64), array([0, 0, 0, 0, 0, 0], dtype=int64), array([0, 0, 0, 0, 0, 0], dtype=int64), array([0, 0, 0, 0, 0, 0], dtype=int64), array([0, 0, 0, 0, 0, 0], dtype=int64), array([0, 0, 0, 0, 0, 0], dtype=int64), array([0, 0, 0, 0, 0, 0], dtype=int64), array([0, 0, 0, 0, 0, 0], dtype=int64), array([0, 0, 0, 0, 0, 0], dtype=int64), array([0, 0, 0, 0, 0, 0], dtype=int64), array([0, 0, 0, 0, 0, 0], dtype=int64), array([0, 0, 0, 0, 0, 0], dtype=int64), array([0, 0, 0, 0, 0, 0], dtype=int64), array([0, 0, 0, 0, 0, 0], dtype=int64), array([0, 0, 0, 0, 0, 0], dtype=int64), array([0, 0, 0, 0, 0, 0], dtype=int64), array([0, 0, 0, 0, 0, 0], dtype=int64), array([0, 0, 0, 0, 0, 0], dtype=int64), array([0, 0, 0, 0, 0, 0], dtype=int64), array([0, 0, 0, 0, 0, 0], dtype=int64), array([0, 0, 0, 0, 0, 0], dtype=int64), array([0, 0, 0, 0, 0, 0], dtype=int64), array([0, 0, 0, 0, 0, 0], dtype=int64), array([0, 0, 0, 0, 0, 0], dtype=int64), array([0, 0, 0, 0, 0, 0], dtype=int64), array([0, 0, 0, 0, 0, 0], dtype=int64), array([0, 0, 0, 0, 0, 0], dtype=int64), array([0, 0, 0, 0, 0, 0], dtype=int64), array([0, 0, 0, 0, 0, 0], dtype=int64), array([0, 0, 0, 0, 0, 0], dtype=int64), array([0, 0, 0, 0, 0, 0], dtype=int64), array([0, 0, 0, 0, 0, 0], dtype=int64), array([0, 0, 0, 0, 0, 0], dtype=int64), array([0, 0, 0, 0, 0, 0], dtype=int64), array([0, 0, 0, 0, 0, 0], dtype=int64), array([0, 0, 0, 0, 0, 0], dtype=int64), array([0, 0, 0, 0, 0, 0], dtype=int64), array([0, 0, 0, 0, 0, 0], dtype=int64), array([0, 0, 0, 0, 0, 0], dtype=int64), array([0, 0, 0, 0, 0, 0], dtype=int64), array([0, 0, 0, 0, 0, 0], dtype=int64), array([0, 0, 0, 0, 0, 0], dtype=int64), array([0, 0, 0, 0, 0, 0], dtype=int64), array([0, 0, 0, 0, 0, 0], dtype=int64), array([0, 0, 0, 0, 0, 0], dtype=int64), array([0, 0, 0, 0, 0, 0], dtype=int64), array([0, 0, 0, 0, 0, 0], dtype=int64), array([0, 0, 0, 0, 0, 0], dtype=int64), array([0, 0, 0, 0, 0, 0], dtype=int64), array([0, 0, 0, 0, 0, 0], dtype=int64), array([0, 0, 0, 0, 0, 0], dtype=int64), array([0, 0, 0, 0, 0, 0], dtype=int64), array([0, 0, 0, 0, 0, 0], dtype=int64), array([0, 0, 0, 0, 0, 0], dtype=int64), array([0, 0, 0, 0, 0, 0], dtype=int64), array([0, 0, 0, 0, 0, 0], dtype=int64), array([0, 0, 0, 0, 0, 0], dtype=int64), array([0, 0, 0, 0, 0, 0], dtype=int64), array([0, 0, 0, 0, 0, 0], dtype=int64), array([0, 0, 0, 0, 0, 0], dtype=int64), array([0, 0, 0, 0, 0, 0], dtype=int64), array([0, 0, 0, 0, 0, 0], dtype=int64), array([0, 0, 0, 0, 0, 0], dtype=int64), array([0, 0, 0, 0, 0, 0], dtype=int64), array([0, 0, 0, 0, 0, 0], dtype=int64), array([0, 0, 0, 0, 0, 0], dtype=int64), array([0, 0, 0, 0, 0, 0], dtype=int64), array([0, 0, 0, 0, 0, 0], dtype=int64), array([0, 0, 0, 0, 0, 0], dtype=int64), array([0, 0, 0, 0, 0, 0], dtype=int64), array([0, 0, 0, 0, 0, 0], dtype=int64), array([0, 0, 0, 0, 0, 0], dtype=int64), array([0, 0, 0, 0, 0, 0], dtype=int64), array([0, 0, 0, 0, 0, 0], dtype=int64), array([0, 0, 0, 0, 0, 0], dtype=int64), array([0, 0, 0, 0, 0, 0], dtype=int64), array([0, 0, 0, 0, 0, 0], dtype=int64), array([0, 0, 0, 0, 0, 0], dtype=int64), array([0, 0, 0, 0, 0, 0], dtype=int64), array([0, 0, 0, 0, 0, 0], dtype=int64), array([0, 0, 0, 0, 0, 0], dtype=int64), array([0, 0, 0, 0, 0, 0], dtype=int64), array([0, 0, 0, 0, 0, 0], dtype=int64), array([0, 0, 0, 0, 0, 0], dtype=int64), array([0, 0, 0, 0, 0, 0], dtype=int64), array([0, 0, 0, 0, 0, 0], dtype=int64), array([0, 0, 0, 0, 0, 0], dtype=int64), array([0, 0, 0, 0, 0, 0], dtype=int64), array([0, 0, 0, 0, 0, 0], dtype=int64), array([0, 0, 0, 0, 0, 0], dtype=int64), array([0, 0, 0, 0, 0, 0], dtype=int64), array([0, 0, 0, 0, 0, 0], dtype=int64), array([0, 0, 0, 0, 0, 0], dtype=int64), array([0, 0, 0, 0, 0, 0], dtype=int64), array([0, 0, 0, 0, 0, 0], dtype=int64), array([0, 0, 0, 0, 0, 0], dtype=int64), array([0, 0, 0, 0, 0, 0], dtype=int64), array([0, 0, 0, 0, 0, 0], dtype=int64), array([0, 0, 0, 0, 0, 0], dtype=int64), array([0, 0, 0, 0, 0, 0], dtype=int64), array([0, 0, 0, 0, 0, 0], dtype=int64), array([0, 0, 0, 0, 0, 0], dtype=int64), array([0, 0, 0, 0, 0, 0], dtype=int64), array([0, 0, 0, 0, 0, 0], dtype=int64), array([0, 0, 0, 0, 0, 0], dtype=int64), array([0, 0, 0, 0, 0, 0], dtype=int64), array([0, 0, 0, 0, 0, 0], dtype=int64), array([0, 0, 0, 0, 0, 0], dtype=int64), array([0, 0, 0, 0, 0, 0], dtype=int64), array([0, 0, 0, 0, 0, 0], dtype=int64), array([0, 0, 0, 0, 0, 0], dtype=int64), array([0, 0, 0, 0, 0, 0], dtype=int64), array([0, 0, 0, 0, 0, 0], dtype=int64), array([0, 0, 0, 0, 0, 0], dtype=int64), array([0, 0, 0, 0, 0, 0], dtype=int64), array([0, 0, 0, 0, 0, 0], dtype=int64), array([0, 0, 0, 0, 0, 0], dtype=int64), array([0, 0, 0, 0, 0, 0], dtype=int64), array([0, 0, 0, 0, 0, 0], dtype=int64), array([0, 0, 0, 0, 0, 0], dtype=int64), array([0, 0, 0, 0, 0, 0], dtype=int64), array([0, 0, 0, 0, 0, 0], dtype=int64), array([0, 0, 0, 0, 0, 0], dtype=int64), array([0, 0, 0, 0, 0, 0], dtype=int64), array([0, 0, 0, 0, 0, 0], dtype=int64), array([0, 0, 0, 0, 0, 0], dtype=int64), array([0, 0, 0, 0, 0, 0], dtype=int64), array([0, 0, 0, 0, 0, 0], dtype=int64), array([0, 0, 0, 0, 0, 0], dtype=int64), array([0, 0, 0, 0, 0, 0], dtype=int64), array([0, 0, 0, 0, 0, 0], dtype=int64), array([0, 0, 0, 0, 0, 0], dtype=int64), array([0, 0, 0, 0, 0, 0], dtype=int64), array([0, 0, 0, 0, 0, 0], dtype=int64), array([0, 0, 0, 0, 0, 0], dtype=int64), array([0, 0, 0, 0, 0, 0], dtype=int64), array([0, 0, 0, 0, 0, 0], dtype=int64), array([0, 0, 0, 0, 0, 0], dtype=int64), array([0, 0, 0, 0, 0, 0], dtype=int64), array([0, 0, 0, 0, 0, 0], dtype=int64), array([0, 0, 0, 0, 0, 0], dtype=int64), array([0, 0, 0, 0, 0, 0], dtype=int64), array([0, 0, 0, 0, 0, 0], dtype=int64), array([0, 0, 0, 0, 0, 0], dtype=int64), array([0, 0, 0, 0, 0, 0], dtype=int64), array([0, 0, 0, 0, 0, 0], dtype=int64), array([0, 0, 0, 0, 0, 0], dtype=int64), array([0, 0, 0, 0, 0, 0], dtype=int64), array([0, 0, 0, 0, 0, 0], dtype=int64), array([0, 0, 0, 0, 0, 0], dtype=int64), array([0, 0, 0, 0, 0, 0], dtype=int64), array([0, 0, 0, 0, 0, 0], dtype=int64), array([0, 0, 0, 0, 0, 0], dtype=int64), array([0, 0, 0, 0, 0, 0], dtype=int64), array([0, 0, 0, 0, 0, 0], dtype=int64), array([1, 0, 0, 0, 1, 0], dtype=int64), array([0, 0, 0, 0, 0, 0], dtype=int64), array([0, 0, 0, 0, 0, 0], dtype=int64), array([0, 0, 0, 0, 0, 0], dtype=int64), array([0, 0, 0, 0, 0, 0], dtype=int64), array([0, 0, 0, 0, 0, 0], dtype=int64), array([0, 0, 0, 0, 0, 0], dtype=int64), array([0, 0, 0, 0, 0, 0], dtype=int64), array([0, 0, 0, 0, 0, 0], dtype=int64), array([0, 0, 0, 0, 0, 0], dtype=int64), array([0, 0, 0, 0, 0, 0], dtype=int64), array([0, 0, 0, 0, 0, 0], dtype=int64), array([0, 0, 0, 0, 0, 0], dtype=int64), array([0, 0, 0, 0, 0, 0], dtype=int64), array([0, 0, 0, 0, 0, 0], dtype=int64), array([0, 0, 0, 0, 0, 0], dtype=int64), array([0, 0, 0, 0, 0, 0], dtype=int64), array([0, 0, 0, 0, 0, 0], dtype=int64), array([0, 0, 0, 0, 0, 0], dtype=int64), array([0, 0, 0, 0, 0, 0], dtype=int64), array([0, 0, 0, 0, 0, 0], dtype=int64), array([0, 0, 0, 0, 0, 0], dtype=int64), array([0, 0, 0, 0, 0, 0], dtype=int64), array([1, 0, 0, 0, 1, 0], dtype=int64), array([0, 0, 0, 0, 0, 0], dtype=int64), array([0, 0, 0, 0, 0, 0], dtype=int64), array([0, 0, 0, 0, 0, 0], dtype=int64), array([0, 0, 0, 0, 0, 0], dtype=int64), array([0, 0, 0, 0, 0, 0], dtype=int64), array([0, 0, 0, 0, 0, 0], dtype=int64), array([0, 0, 0, 0, 0, 0], dtype=int64), array([0, 0, 0, 0, 0, 0], dtype=int64), array([0, 0, 0, 0, 0, 0], dtype=int64), array([0, 0, 0, 0, 0, 0], dtype=int64), array([0, 0, 0, 0, 0, 0], dtype=int64), array([0, 0, 0, 0, 0, 0], dtype=int64), array([0, 0, 0, 0, 0, 0], dtype=int64), array([0, 0, 0, 0, 0, 0], dtype=int64), array([0, 0, 0, 0, 0, 0], dtype=int64), array([0, 0, 0, 0, 0, 0], dtype=int64), array([0, 0, 0, 0, 0, 0], dtype=int64), array([0, 0, 0, 0, 0, 0], dtype=int64), array([0, 0, 0, 0, 0, 0], dtype=int64), array([0, 0, 0, 0, 0, 0], dtype=int64), array([0, 0, 0, 0, 0, 0], dtype=int64), array([0, 0, 0, 0, 0, 0], dtype=int64), array([0, 0, 0, 0, 0, 0], dtype=int64), array([0, 0, 0, 0, 0, 0], dtype=int64), array([0, 0, 0, 0, 0, 0], dtype=int64), array([0, 0, 0, 0, 0, 0], dtype=int64), array([0, 0, 0, 0, 0, 0], dtype=int64), array([0, 0, 0, 0, 0, 0], dtype=int64), array([0, 0, 0, 0, 0, 0], dtype=int64), array([0, 0, 0, 0, 0, 0], dtype=int64), array([0, 0, 0, 0, 0, 0], dtype=int64), array([0, 0, 0, 0, 0, 0], dtype=int64), array([0, 0, 0, 0, 0, 0], dtype=int64), array([0, 0, 0, 0, 0, 0], dtype=int64), array([0, 0, 0, 0, 0, 0], dtype=int64), array([0, 0, 0, 0, 0, 0], dtype=int64), array([0, 0, 0, 0, 0, 0], dtype=int64), array([0, 0, 0, 0, 0, 0], dtype=int64), array([0, 0, 0, 0, 0, 0], dtype=int64), array([0, 0, 0, 0, 0, 0], dtype=int64), array([0, 0, 0, 0, 0, 0], dtype=int64), array([0, 0, 0, 0, 0, 0], dtype=int64), array([0, 0, 0, 0, 0, 0], dtype=int64), array([0, 0, 0, 0, 0, 0], dtype=int64), array([0, 0, 0, 0, 0, 0], dtype=int64), array([0, 0, 0, 0, 0, 0], dtype=int64), array([0, 0, 0, 0, 0, 0], dtype=int64), array([0, 0, 0, 0, 0, 0], dtype=int64), array([0, 0, 0, 0, 0, 0], dtype=int64), array([0, 0, 0, 0, 0, 0], dtype=int64), array([0, 0, 0, 0, 0, 0], dtype=int64), array([0, 0, 0, 0, 0, 0], dtype=int64), array([0, 0, 0, 0, 0, 0], dtype=int64), array([0, 0, 0, 0, 0, 0], dtype=int64), array([0, 0, 0, 0, 0, 0], dtype=int64), array([0, 0, 0, 0, 0, 0], dtype=int64), array([0, 0, 0, 0, 0, 0], dtype=int64), array([0, 0, 0, 0, 0, 0], dtype=int64), array([0, 0, 0, 0, 0, 0], dtype=int64), array([0, 0, 0, 0, 0, 0], dtype=int64), array([0, 0, 0, 0, 0, 0], dtype=int64), array([0, 0, 0, 0, 0, 0], dtype=int64), array([0, 0, 0, 0, 0, 0], dtype=int64), array([0, 0, 0, 0, 0, 0], dtype=int64), array([0, 0, 0, 0, 0, 0], dtype=int64), array([0, 0, 0, 0, 0, 0], dtype=int64), array([0, 0, 0, 0, 0, 0], dtype=int64), array([0, 0, 0, 0, 0, 0], dtype=int64), array([0, 0, 0, 0, 0, 0], dtype=int64), array([0, 0, 0, 0, 0, 0], dtype=int64), array([0, 0, 0, 0, 0, 0], dtype=int64), array([0, 0, 0, 0, 0, 0], dtype=int64), array([0, 0, 0, 0, 0, 0], dtype=int64), array([0, 0, 0, 0, 0, 0], dtype=int64), array([0, 0, 0, 0, 0, 0], dtype=int64), array([0, 0, 0, 0, 0, 0], dtype=int64), array([0, 0, 0, 0, 0, 0], dtype=int64), array([0, 0, 0, 0, 0, 0], dtype=int64), array([0, 0, 0, 0, 0, 0], dtype=int64), array([0, 0, 0, 0, 0, 0], dtype=int64), array([0, 0, 0, 0, 0, 0], dtype=int64), array([0, 0, 0, 0, 0, 0], dtype=int64), array([0, 0, 0, 0, 0, 0], dtype=int64), array([0, 0, 0, 0, 0, 0], dtype=int64), array([0, 0, 0, 0, 0, 0], dtype=int64), array([0, 0, 0, 0, 0, 0], dtype=int64), array([0, 0, 0, 0, 0, 0], dtype=int64), array([0, 0, 0, 0, 0, 0], dtype=int64), array([0, 0, 0, 0, 0, 0], dtype=int64), array([0, 0, 0, 0, 0, 0], dtype=int64), array([0, 0, 0, 0, 0, 0], dtype=int64), array([0, 0, 0, 0, 0, 0], dtype=int64), array([0, 0, 0, 0, 0, 0], dtype=int64), array([0, 0, 0, 0, 0, 0], dtype=int64), array([0, 0, 0, 0, 0, 0], dtype=int64), array([0, 0, 0, 0, 0, 0], dtype=int64), array([0, 0, 0, 0, 0, 0], dtype=int64), array([0, 0, 0, 0, 0, 0], dtype=int64), array([0, 0, 0, 0, 0, 0], dtype=int64), array([0, 0, 0, 0, 0, 0], dtype=int64), array([0, 0, 0, 0, 0, 0], dtype=int64), array([0, 0, 0, 0, 0, 0], dtype=int64), array([0, 0, 0, 0, 0, 0], dtype=int64), array([0, 0, 0, 0, 0, 0], dtype=int64), array([0, 0, 0, 0, 0, 0], dtype=int64), array([0, 0, 0, 0, 0, 0], dtype=int64), array([0, 0, 0, 0, 0, 0], dtype=int64), array([0, 0, 0, 0, 0, 0], dtype=int64), array([0, 0, 0, 0, 0, 0], dtype=int64), array([0, 0, 0, 0, 0, 0], dtype=int64), array([0, 0, 0, 0, 0, 0], dtype=int64), array([0, 0, 0, 0, 0, 0], dtype=int64), array([0, 0, 0, 0, 0, 0], dtype=int64), array([0, 0, 0, 0, 0, 0], dtype=int64), array([0, 0, 0, 0, 0, 0], dtype=int64), array([0, 0, 0, 0, 0, 0], dtype=int64), array([0, 0, 0, 0, 0, 0], dtype=int64), array([0, 0, 0, 0, 0, 0], dtype=int64), array([0, 0, 0, 0, 0, 0], dtype=int64), array([0, 0, 0, 0, 0, 0], dtype=int64), array([0, 0, 0, 0, 0, 0], dtype=int64), array([0, 0, 0, 0, 0, 0], dtype=int64), array([0, 0, 0, 0, 0, 0], dtype=int64), array([0, 0, 0, 0, 0, 0], dtype=int64), array([0, 0, 0, 0, 0, 0], dtype=int64), array([0, 0, 0, 0, 0, 0], dtype=int64), array([0, 0, 0, 0, 0, 0], dtype=int64), array([0, 0, 0, 0, 0, 0], dtype=int64), array([1, 0, 0, 0, 1, 0], dtype=int64), array([0, 0, 0, 0, 0, 0], dtype=int64), array([0, 0, 0, 0, 0, 0], dtype=int64), array([0, 0, 0, 0, 0, 0], dtype=int64), array([0, 0, 0, 0, 0, 0], dtype=int64), array([0, 0, 0, 0, 0, 0], dtype=int64), array([0, 0, 0, 0, 0, 0], dtype=int64), array([0, 0, 0, 0, 0, 0], dtype=int64), array([0, 0, 0, 0, 0, 0], dtype=int64), array([0, 0, 0, 0, 0, 0], dtype=int64), array([0, 0, 0, 0, 0, 0], dtype=int64), array([0, 0, 0, 0, 0, 0], dtype=int64), array([0, 0, 0, 0, 0, 0], dtype=int64), array([0, 0, 0, 0, 0, 0], dtype=int64), array([0, 0, 0, 0, 0, 0], dtype=int64), array([0, 0, 0, 0, 0, 0], dtype=int64), array([0, 0, 0, 0, 0, 0], dtype=int64), array([0, 0, 0, 0, 0, 0], dtype=int64), array([0, 0, 0, 0, 0, 0], dtype=int64), array([0, 0, 0, 0, 0, 0], dtype=int64), array([0, 0, 0, 0, 0, 0], dtype=int64), array([0, 0, 0, 0, 0, 0], dtype=int64), array([0, 0, 0, 0, 0, 0], dtype=int64), array([0, 0, 0, 0, 0, 0], dtype=int64), array([0, 0, 0, 0, 0, 0], dtype=int64), array([0, 0, 0, 0, 0, 0], dtype=int64), array([0, 0, 0, 0, 0, 0], dtype=int64), array([0, 0, 0, 0, 0, 0], dtype=int64), array([0, 0, 0, 0, 0, 0], dtype=int64), array([0, 0, 0, 0, 0, 0], dtype=int64), array([0, 0, 0, 0, 0, 0], dtype=int64), array([0, 0, 0, 0, 0, 0], dtype=int64), array([0, 0, 0, 0, 0, 0], dtype=int64), array([0, 0, 0, 0, 0, 0], dtype=int64), array([0, 0, 0, 0, 0, 0], dtype=int64), array([0, 0, 0, 0, 0, 0], dtype=int64), array([0, 0, 0, 0, 0, 0], dtype=int64), array([0, 0, 0, 0, 0, 0], dtype=int64), array([0, 0, 0, 0, 0, 0], dtype=int64), array([0, 0, 0, 0, 0, 0], dtype=int64), array([0, 0, 0, 0, 0, 0], dtype=int64), array([0, 0, 0, 0, 0, 0], dtype=int64), array([0, 0, 0, 0, 0, 0], dtype=int64), array([0, 0, 0, 0, 0, 0], dtype=int64), array([0, 0, 0, 0, 0, 0], dtype=int64), array([0, 0, 0, 0, 0, 0], dtype=int64), array([0, 0, 0, 0, 0, 0], dtype=int64), array([0, 0, 0, 0, 0, 0], dtype=int64), array([0, 0, 0, 0, 0, 0], dtype=int64), array([0, 0, 0, 0, 0, 0], dtype=int64), array([0, 0, 0, 0, 0, 0], dtype=int64), array([0, 0, 0, 0, 0, 0], dtype=int64), array([0, 0, 0, 0, 0, 0], dtype=int64), array([0, 0, 0, 0, 0, 0], dtype=int64), array([0, 0, 0, 0, 0, 0], dtype=int64), array([0, 0, 0, 0, 0, 0], dtype=int64), array([0, 0, 0, 0, 0, 0], dtype=int64), array([0, 0, 0, 0, 0, 0], dtype=int64), array([0, 0, 0, 0, 0, 0], dtype=int64), array([0, 0, 0, 0, 0, 0], dtype=int64), array([0, 0, 0, 0, 0, 0], dtype=int64), array([0, 0, 0, 0, 0, 0], dtype=int64), array([0, 0, 0, 0, 0, 0], dtype=int64), array([0, 0, 0, 0, 0, 0], dtype=int64), array([0, 0, 0, 0, 0, 0], dtype=int64), array([0, 0, 0, 0, 0, 0], dtype=int64), array([0, 0, 0, 0, 0, 0], dtype=int64), array([0, 0, 0, 0, 0, 0], dtype=int64), array([0, 0, 0, 0, 0, 0], dtype=int64), array([0, 0, 0, 0, 0, 0], dtype=int64), array([0, 0, 0, 0, 0, 0], dtype=int64), array([0, 0, 0, 0, 0, 0], dtype=int64), array([0, 0, 0, 0, 0, 0], dtype=int64), array([0, 0, 0, 0, 0, 0], dtype=int64), array([0, 0, 0, 0, 0, 0], dtype=int64), array([0, 0, 0, 0, 0, 0], dtype=int64), array([0, 0, 0, 0, 0, 0], dtype=int64), array([0, 0, 0, 0, 0, 0], dtype=int64), array([0, 0, 0, 0, 0, 0], dtype=int64), array([0, 0, 0, 0, 0, 0], dtype=int64), array([0, 0, 0, 0, 0, 0], dtype=int64), array([0, 0, 0, 0, 0, 0], dtype=int64), array([0, 0, 0, 0, 0, 0], dtype=int64), array([0, 0, 0, 0, 0, 0], dtype=int64), array([0, 0, 0, 0, 0, 0], dtype=int64), array([0, 0, 0, 0, 0, 0], dtype=int64), array([0, 0, 0, 0, 0, 0], dtype=int64), array([0, 0, 0, 0, 0, 0], dtype=int64), array([0, 0, 0, 0, 0, 0], dtype=int64), array([0, 0, 0, 0, 0, 0], dtype=int64), array([0, 0, 0, 0, 0, 0], dtype=int64), array([0, 0, 0, 0, 0, 0], dtype=int64), array([0, 0, 0, 0, 0, 0], dtype=int64), array([0, 0, 0, 0, 0, 0], dtype=int64), array([0, 0, 0, 0, 0, 0], dtype=int64), array([0, 0, 0, 0, 0, 0], dtype=int64), array([0, 0, 0, 0, 0, 0], dtype=int64), array([0, 0, 0, 0, 0, 0], dtype=int64), array([0, 0, 0, 0, 0, 0], dtype=int64), array([0, 0, 0, 0, 0, 0], dtype=int64), array([0, 0, 0, 0, 0, 0], dtype=int64), array([0, 0, 0, 0, 0, 0], dtype=int64), array([0, 0, 0, 0, 0, 0], dtype=int64), array([0, 0, 0, 0, 0, 0], dtype=int64), array([0, 0, 0, 0, 0, 0], dtype=int64), array([0, 0, 0, 0, 0, 0], dtype=int64), array([0, 0, 0, 0, 0, 0], dtype=int64), array([0, 0, 0, 0, 0, 0], dtype=int64), array([0, 0, 0, 0, 0, 0], dtype=int64), array([0, 0, 0, 0, 0, 0], dtype=int64), array([0, 0, 0, 0, 0, 0], dtype=int64), array([0, 0, 0, 0, 0, 0], dtype=int64), array([0, 0, 0, 0, 0, 0], dtype=int64), array([0, 0, 0, 0, 0, 0], dtype=int64), array([0, 0, 0, 0, 0, 0], dtype=int64), array([0, 0, 0, 0, 0, 0], dtype=int64), array([0, 0, 0, 0, 0, 0], dtype=int64), array([0, 0, 0, 0, 0, 0], dtype=int64), array([0, 0, 0, 0, 0, 0], dtype=int64), array([0, 0, 0, 0, 0, 0], dtype=int64), array([0, 0, 0, 0, 0, 0], dtype=int64), array([0, 0, 0, 0, 0, 0], dtype=int64), array([0, 0, 0, 0, 0, 0], dtype=int64), array([0, 0, 0, 0, 0, 0], dtype=int64), array([0, 0, 0, 0, 0, 0], dtype=int64), array([0, 0, 0, 0, 0, 0], dtype=int64), array([0, 0, 0, 0, 0, 0], dtype=int64), array([0, 0, 0, 0, 0, 0], dtype=int64), array([0, 0, 0, 0, 0, 0], dtype=int64), array([0, 0, 0, 0, 0, 0], dtype=int64), array([0, 0, 0, 0, 0, 0], dtype=int64), array([0, 0, 0, 0, 0, 0], dtype=int64), array([0, 0, 0, 0, 0, 0], dtype=int64), array([0, 0, 0, 0, 0, 0], dtype=int64), array([0, 0, 0, 0, 0, 0], dtype=int64), array([0, 0, 0, 0, 0, 0], dtype=int64), array([0, 0, 0, 0, 0, 0], dtype=int64), array([0, 0, 0, 0, 0, 0], dtype=int64), array([0, 0, 0, 0, 0, 0], dtype=int64), array([0, 0, 0, 0, 0, 0], dtype=int64), array([0, 0, 0, 0, 0, 0], dtype=int64), array([0, 0, 0, 0, 0, 0], dtype=int64), array([0, 0, 0, 0, 0, 0], dtype=int64), array([0, 0, 0, 0, 0, 0], dtype=int64), array([0, 0, 0, 0, 0, 0], dtype=int64), array([0, 0, 0, 0, 0, 0], dtype=int64), array([0, 0, 0, 0, 0, 0], dtype=int64), array([0, 0, 0, 0, 0, 0], dtype=int64), array([0, 0, 0, 0, 0, 0], dtype=int64), array([0, 0, 0, 0, 0, 0], dtype=int64), array([0, 0, 0, 0, 0, 0], dtype=int64), array([0, 0, 0, 0, 0, 0], dtype=int64), array([0, 0, 0, 0, 0, 0], dtype=int64), array([0, 0, 0, 0, 0, 0], dtype=int64), array([0, 0, 0, 0, 0, 0], dtype=int64), array([0, 0, 0, 0, 0, 0], dtype=int64), array([0, 0, 0, 0, 0, 0], dtype=int64), array([0, 0, 0, 0, 0, 0], dtype=int64), array([0, 0, 0, 0, 0, 0], dtype=int64), array([0, 0, 0, 0, 0, 0], dtype=int64), array([0, 0, 0, 0, 0, 0], dtype=int64), array([0, 0, 0, 0, 0, 0], dtype=int64), array([0, 0, 0, 0, 0, 0], dtype=int64), array([0, 0, 0, 0, 0, 0], dtype=int64), array([0, 0, 0, 0, 0, 0], dtype=int64), array([0, 0, 0, 0, 0, 0], dtype=int64), array([0, 0, 0, 0, 0, 0], dtype=int64), array([0, 0, 0, 0, 0, 0], dtype=int64), array([0, 0, 0, 0, 0, 0], dtype=int64), array([0, 0, 0, 0, 0, 0], dtype=int64), array([0, 0, 0, 0, 0, 0], dtype=int64), array([0, 0, 0, 0, 0, 0], dtype=int64), array([0, 0, 0, 0, 0, 0], dtype=int64), array([0, 0, 0, 0, 0, 0], dtype=int64), array([0, 0, 0, 0, 0, 0], dtype=int64), array([0, 0, 0, 0, 0, 0], dtype=int64), array([0, 0, 0, 0, 0, 0], dtype=int64), array([0, 0, 0, 0, 0, 0], dtype=int64), array([0, 0, 0, 0, 0, 0], dtype=int64), array([0, 0, 0, 0, 0, 0], dtype=int64), array([0, 0, 0, 0, 0, 0], dtype=int64), array([0, 0, 0, 0, 0, 0], dtype=int64), array([0, 0, 0, 0, 0, 0], dtype=int64), array([0, 0, 0, 0, 0, 0], dtype=int64), array([0, 0, 0, 0, 0, 0], dtype=int64), array([0, 0, 0, 0, 0, 0], dtype=int64), array([0, 0, 0, 0, 0, 0], dtype=int64), array([0, 0, 0, 0, 0, 0], dtype=int64), array([0, 0, 0, 0, 0, 0], dtype=int64), array([0, 0, 0, 0, 0, 0], dtype=int64), array([0, 0, 0, 0, 0, 0], dtype=int64), array([0, 0, 0, 0, 0, 0], dtype=int64), array([0, 0, 0, 0, 0, 0], dtype=int64), array([0, 0, 0, 0, 0, 0], dtype=int64), array([0, 0, 0, 0, 0, 0], dtype=int64), array([0, 0, 0, 0, 0, 0], dtype=int64), array([0, 0, 0, 0, 0, 0], dtype=int64), array([0, 0, 0, 0, 0, 0], dtype=int64), array([0, 0, 0, 0, 0, 0], dtype=int64), array([0, 0, 0, 0, 0, 0], dtype=int64), array([0, 0, 0, 0, 0, 0], dtype=int64), array([0, 0, 0, 0, 0, 0], dtype=int64), array([0, 0, 0, 0, 0, 0], dtype=int64), array([0, 0, 0, 0, 0, 0], dtype=int64), array([0, 0, 0, 0, 0, 0], dtype=int64), array([0, 0, 0, 0, 0, 0], dtype=int64), array([0, 0, 0, 0, 0, 0], dtype=int64), array([0, 0, 0, 0, 0, 0], dtype=int64), array([0, 0, 0, 0, 0, 0], dtype=int64), array([0, 0, 0, 0, 0, 0], dtype=int64), array([0, 0, 0, 0, 0, 0], dtype=int64), array([0, 0, 0, 0, 0, 0], dtype=int64), array([0, 0, 0, 0, 0, 0], dtype=int64), array([0, 0, 0, 0, 0, 0], dtype=int64), array([0, 0, 0, 0, 0, 0], dtype=int64), array([0, 0, 0, 0, 0, 0], dtype=int64), array([0, 0, 0, 0, 0, 0], dtype=int64), array([0, 0, 0, 0, 0, 0], dtype=int64), array([0, 0, 0, 0, 0, 0], dtype=int64), array([0, 0, 0, 0, 0, 0], dtype=int64), array([0, 0, 0, 0, 0, 0], dtype=int64), array([0, 0, 0, 0, 0, 0], dtype=int64), array([0, 0, 0, 0, 0, 0], dtype=int64), array([0, 0, 0, 0, 0, 0], dtype=int64), array([0, 0, 0, 0, 0, 0], dtype=int64), array([0, 0, 0, 0, 0, 0], dtype=int64), array([0, 0, 0, 0, 0, 0], dtype=int64), array([0, 0, 0, 0, 0, 0], dtype=int64), array([0, 0, 0, 0, 0, 0], dtype=int64), array([0, 0, 0, 0, 0, 0], dtype=int64), array([0, 0, 0, 0, 0, 0], dtype=int64), array([0, 0, 0, 0, 0, 0], dtype=int64), array([0, 0, 0, 0, 0, 0], dtype=int64), array([0, 0, 0, 0, 0, 0], dtype=int64), array([0, 0, 0, 0, 0, 0], dtype=int64), array([0, 0, 0, 0, 0, 0], dtype=int64), array([0, 0, 0, 0, 0, 0], dtype=int64), array([0, 0, 0, 0, 0, 0], dtype=int64), array([0, 0, 0, 0, 0, 0], dtype=int64), array([0, 0, 0, 0, 0, 0], dtype=int64), array([0, 0, 0, 0, 0, 0], dtype=int64), array([0, 0, 0, 0, 0, 0], dtype=int64), array([0, 0, 0, 0, 0, 0], dtype=int64), array([0, 0, 0, 0, 0, 0], dtype=int64), array([0, 0, 0, 0, 0, 0], dtype=int64), array([0, 0, 0, 0, 0, 0], dtype=int64), array([0, 0, 0, 0, 0, 0], dtype=int64), array([0, 0, 0, 0, 0, 0], dtype=int64), array([0, 0, 0, 0, 0, 0], dtype=int64), array([0, 0, 0, 0, 0, 0], dtype=int64), array([0, 0, 0, 0, 0, 0], dtype=int64), array([0, 0, 0, 0, 0, 0], dtype=int64), array([0, 0, 0, 0, 0, 0], dtype=int64), array([0, 0, 0, 0, 0, 0], dtype=int64), array([0, 0, 0, 0, 0, 0], dtype=int64), array([0, 0, 0, 0, 0, 0], dtype=int64), array([0, 0, 0, 0, 0, 0], dtype=int64), array([0, 0, 0, 0, 0, 0], dtype=int64), array([0, 0, 0, 0, 0, 0], dtype=int64), array([0, 0, 0, 0, 0, 0], dtype=int64), array([0, 0, 0, 0, 0, 0], dtype=int64), array([0, 0, 0, 0, 0, 0], dtype=int64), array([0, 0, 0, 0, 0, 0], dtype=int64), array([0, 0, 0, 0, 0, 0], dtype=int64), array([0, 0, 0, 0, 0, 0], dtype=int64), array([0, 0, 0, 0, 0, 0], dtype=int64), array([0, 0, 0, 0, 0, 0], dtype=int64), array([0, 0, 0, 0, 0, 0], dtype=int64), array([0, 0, 0, 0, 0, 0], dtype=int64), array([0, 0, 0, 0, 0, 0], dtype=int64), array([0, 0, 0, 0, 0, 0], dtype=int64), array([0, 0, 0, 0, 0, 0], dtype=int64), array([0, 0, 0, 0, 0, 0], dtype=int64), array([0, 0, 0, 0, 0, 0], dtype=int64), array([0, 0, 0, 0, 0, 0], dtype=int64), array([0, 0, 0, 0, 0, 0], dtype=int64), array([0, 0, 0, 0, 0, 0], dtype=int64), array([0, 0, 0, 0, 0, 0], dtype=int64), array([0, 0, 0, 0, 0, 0], dtype=int64), array([0, 0, 0, 0, 0, 0], dtype=int64), array([0, 0, 0, 0, 0, 0], dtype=int64), array([0, 0, 0, 0, 0, 0], dtype=int64), array([0, 0, 0, 0, 0, 0], dtype=int64), array([0, 0, 0, 0, 0, 0], dtype=int64), array([0, 0, 0, 0, 0, 0], dtype=int64), array([1, 0, 0, 0, 0, 0], dtype=int64), array([0, 0, 0, 0, 0, 0], dtype=int64), array([0, 0, 0, 0, 0, 0], dtype=int64), array([0, 0, 0, 0, 0, 0], dtype=int64), array([0, 0, 0, 0, 0, 0], dtype=int64), array([0, 0, 0, 0, 0, 0], dtype=int64), array([0, 0, 0, 0, 0, 0], dtype=int64), array([0, 0, 0, 0, 0, 0], dtype=int64), array([0, 0, 0, 0, 0, 0], dtype=int64), array([0, 0, 0, 0, 0, 0], dtype=int64), array([0, 0, 0, 0, 0, 0], dtype=int64), array([0, 0, 0, 0, 0, 0], dtype=int64), array([0, 0, 0, 0, 0, 0], dtype=int64), array([0, 0, 0, 0, 0, 0], dtype=int64), array([0, 0, 0, 0, 0, 0], dtype=int64), array([0, 0, 0, 0, 0, 0], dtype=int64), array([0, 0, 0, 0, 0, 0], dtype=int64), array([0, 0, 0, 0, 0, 0], dtype=int64), array([0, 0, 0, 0, 0, 0], dtype=int64), array([0, 0, 0, 0, 0, 0], dtype=int64), array([0, 0, 0, 0, 0, 0], dtype=int64), array([0, 0, 0, 0, 0, 0], dtype=int64), array([0, 0, 0, 0, 0, 0], dtype=int64), array([0, 0, 0, 0, 0, 0], dtype=int64), array([0, 0, 0, 0, 0, 0], dtype=int64), array([1, 0, 0, 1, 0, 0], dtype=int64), array([0, 0, 0, 0, 0, 0], dtype=int64), array([0, 0, 0, 0, 0, 0], dtype=int64), array([0, 0, 0, 0, 0, 0], dtype=int64), array([0, 0, 0, 0, 0, 0], dtype=int64), array([0, 0, 0, 0, 0, 0], dtype=int64), array([0, 0, 0, 0, 0, 0], dtype=int64), array([0, 0, 0, 0, 0, 0], dtype=int64), array([0, 0, 0, 0, 0, 0], dtype=int64), array([0, 0, 0, 0, 0, 0], dtype=int64), array([0, 0, 0, 0, 0, 0], dtype=int64), array([0, 0, 0, 0, 0, 0], dtype=int64), array([0, 0, 0, 0, 0, 0], dtype=int64), array([0, 0, 0, 0, 0, 0], dtype=int64), array([0, 0, 0, 0, 0, 0], dtype=int64), array([0, 0, 0, 0, 0, 0], dtype=int64), array([0, 0, 0, 0, 0, 0], dtype=int64), array([0, 0, 0, 0, 0, 0], dtype=int64), array([0, 0, 0, 0, 0, 0], dtype=int64), array([0, 0, 0, 0, 0, 0], dtype=int64), array([0, 0, 0, 0, 0, 0], dtype=int64), array([0, 0, 0, 0, 0, 0], dtype=int64), array([0, 0, 0, 0, 0, 0], dtype=int64), array([0, 0, 0, 0, 0, 0], dtype=int64), array([0, 0, 0, 0, 0, 0], dtype=int64), array([0, 0, 0, 0, 0, 0], dtype=int64), array([0, 0, 0, 0, 0, 0], dtype=int64), array([0, 0, 0, 0, 0, 0], dtype=int64), array([0, 0, 0, 0, 0, 0], dtype=int64), array([0, 0, 0, 0, 0, 0], dtype=int64), array([0, 0, 0, 0, 0, 0], dtype=int64), array([0, 0, 0, 0, 0, 0], dtype=int64), array([0, 0, 0, 0, 0, 0], dtype=int64), array([0, 0, 0, 0, 0, 0], dtype=int64), array([0, 0, 0, 0, 0, 0], dtype=int64), array([0, 0, 0, 0, 0, 0], dtype=int64), array([0, 0, 0, 0, 0, 0], dtype=int64), array([0, 0, 0, 0, 0, 0], dtype=int64), array([0, 0, 0, 0, 0, 0], dtype=int64), array([0, 0, 0, 0, 0, 0], dtype=int64), array([0, 0, 0, 0, 0, 0], dtype=int64), array([0, 0, 0, 0, 0, 0], dtype=int64), array([0, 0, 0, 0, 0, 0], dtype=int64), array([0, 0, 0, 0, 0, 0], dtype=int64), array([0, 0, 0, 0, 0, 0], dtype=int64), array([0, 0, 0, 0, 0, 0], dtype=int64), array([0, 0, 0, 0, 0, 0], dtype=int64), array([0, 0, 0, 0, 0, 0], dtype=int64), array([0, 0, 0, 0, 0, 0], dtype=int64), array([0, 0, 0, 0, 0, 0], dtype=int64), array([0, 0, 0, 0, 0, 0], dtype=int64), array([0, 0, 0, 0, 0, 0], dtype=int64), array([0, 0, 0, 0, 0, 0], dtype=int64), array([0, 0, 0, 0, 0, 0], dtype=int64), array([0, 0, 0, 0, 0, 0], dtype=int64), array([0, 0, 0, 0, 0, 0], dtype=int64), array([0, 0, 0, 0, 0, 0], dtype=int64), array([0, 0, 0, 0, 0, 0], dtype=int64), array([0, 0, 0, 0, 0, 0], dtype=int64), array([0, 0, 0, 0, 0, 0], dtype=int64), array([0, 0, 0, 0, 0, 0], dtype=int64), array([0, 0, 0, 0, 0, 0], dtype=int64), array([0, 0, 0, 0, 0, 0], dtype=int64), array([0, 0, 0, 0, 0, 0], dtype=int64), array([0, 0, 0, 0, 0, 0], dtype=int64), array([0, 0, 0, 0, 0, 0], dtype=int64), array([0, 0, 0, 0, 0, 0], dtype=int64), array([0, 0, 0, 0, 0, 0], dtype=int64), array([0, 0, 0, 0, 0, 0], dtype=int64), array([0, 0, 0, 0, 0, 0], dtype=int64), array([0, 0, 0, 0, 0, 0], dtype=int64), array([0, 0, 0, 0, 0, 0], dtype=int64), array([0, 0, 0, 0, 0, 0], dtype=int64), array([0, 0, 0, 0, 0, 0], dtype=int64), array([0, 0, 0, 0, 0, 0], dtype=int64), array([0, 0, 0, 0, 0, 0], dtype=int64), array([0, 0, 0, 0, 0, 0], dtype=int64), array([0, 0, 0, 0, 0, 0], dtype=int64), array([0, 0, 0, 0, 0, 0], dtype=int64), array([0, 0, 0, 0, 0, 0], dtype=int64), array([0, 0, 0, 0, 0, 0], dtype=int64), array([0, 0, 0, 0, 0, 0], dtype=int64), array([0, 0, 0, 0, 0, 0], dtype=int64), array([0, 0, 0, 0, 0, 0], dtype=int64), array([0, 0, 0, 0, 0, 0], dtype=int64), array([0, 0, 0, 0, 0, 0], dtype=int64), array([0, 0, 0, 0, 0, 0], dtype=int64), array([0, 0, 0, 0, 0, 0], dtype=int64), array([0, 0, 0, 0, 0, 0], dtype=int64), array([0, 0, 0, 0, 0, 0], dtype=int64), array([0, 0, 0, 0, 0, 0], dtype=int64), array([0, 0, 0, 0, 0, 0], dtype=int64), array([0, 0, 0, 0, 0, 0], dtype=int64), array([0, 0, 0, 0, 0, 0], dtype=int64), array([0, 0, 0, 0, 0, 0], dtype=int64), array([0, 0, 0, 0, 0, 0], dtype=int64), array([0, 0, 0, 0, 0, 0], dtype=int64), array([0, 0, 0, 0, 0, 0], dtype=int64), array([0, 0, 0, 0, 0, 0], dtype=int64), array([0, 0, 0, 0, 0, 0], dtype=int64), array([0, 0, 0, 0, 0, 0], dtype=int64), array([0, 0, 0, 0, 0, 0], dtype=int64), array([0, 0, 0, 0, 0, 0], dtype=int64), array([0, 0, 0, 0, 0, 0], dtype=int64), array([0, 0, 0, 0, 0, 0], dtype=int64), array([0, 0, 0, 0, 0, 0], dtype=int64), array([0, 0, 0, 0, 0, 0], dtype=int64), array([0, 0, 0, 0, 0, 0], dtype=int64), array([0, 0, 0, 0, 0, 0], dtype=int64), array([0, 0, 0, 0, 0, 0], dtype=int64), array([0, 0, 0, 0, 0, 0], dtype=int64), array([0, 0, 0, 0, 0, 0], dtype=int64), array([0, 0, 0, 0, 0, 0], dtype=int64), array([0, 0, 0, 0, 0, 0], dtype=int64), array([0, 0, 0, 0, 0, 0], dtype=int64), array([0, 0, 0, 0, 0, 0], dtype=int64), array([0, 0, 0, 0, 0, 0], dtype=int64), array([0, 0, 0, 0, 0, 0], dtype=int64), array([0, 0, 0, 0, 0, 0], dtype=int64), array([0, 0, 0, 0, 0, 0], dtype=int64), array([0, 0, 0, 0, 0, 0], dtype=int64), array([0, 0, 0, 0, 0, 0], dtype=int64), array([0, 0, 0, 0, 0, 0], dtype=int64), array([0, 0, 0, 0, 0, 0], dtype=int64), array([0, 0, 0, 0, 0, 0], dtype=int64), array([0, 0, 0, 0, 0, 0], dtype=int64), array([0, 0, 0, 0, 0, 0], dtype=int64), array([0, 0, 0, 0, 0, 0], dtype=int64), array([0, 0, 0, 0, 0, 0], dtype=int64), array([0, 0, 0, 0, 0, 0], dtype=int64), array([0, 0, 0, 0, 0, 0], dtype=int64), array([0, 0, 0, 0, 0, 0], dtype=int64), array([0, 0, 0, 0, 0, 0], dtype=int64), array([0, 0, 0, 0, 0, 0], dtype=int64), array([0, 0, 0, 0, 0, 0], dtype=int64), array([0, 0, 0, 0, 0, 0], dtype=int64), array([0, 0, 0, 0, 0, 0], dtype=int64), array([0, 0, 0, 0, 0, 0], dtype=int64), array([0, 0, 0, 0, 0, 0], dtype=int64), array([0, 0, 0, 0, 0, 0], dtype=int64), array([0, 0, 0, 0, 0, 0], dtype=int64), array([0, 0, 0, 0, 0, 0], dtype=int64), array([0, 0, 0, 0, 0, 0], dtype=int64), array([0, 0, 0, 0, 0, 0], dtype=int64), array([0, 0, 0, 0, 0, 0], dtype=int64), array([0, 0, 0, 0, 0, 0], dtype=int64), array([1, 0, 0, 0, 1, 0], dtype=int64), array([0, 0, 0, 0, 0, 0], dtype=int64), array([0, 0, 0, 0, 0, 0], dtype=int64), array([0, 0, 0, 0, 0, 0], dtype=int64), array([0, 0, 0, 0, 0, 0], dtype=int64), array([0, 0, 0, 0, 0, 0], dtype=int64), array([0, 0, 0, 0, 0, 0], dtype=int64), array([0, 0, 0, 0, 0, 0], dtype=int64), array([0, 0, 0, 0, 0, 0], dtype=int64), array([0, 0, 0, 0, 0, 0], dtype=int64), array([0, 0, 0, 0, 0, 0], dtype=int64), array([0, 0, 0, 0, 0, 0], dtype=int64), array([0, 0, 0, 0, 0, 0], dtype=int64), array([0, 0, 0, 0, 0, 0], dtype=int64), array([0, 0, 0, 0, 0, 0], dtype=int64), array([0, 0, 0, 0, 0, 0], dtype=int64), array([0, 0, 0, 0, 0, 0], dtype=int64), array([0, 0, 0, 0, 0, 0], dtype=int64), array([0, 0, 0, 0, 0, 0], dtype=int64), array([0, 0, 0, 0, 0, 0], dtype=int64), array([0, 0, 0, 0, 0, 0], dtype=int64), array([0, 0, 0, 0, 0, 0], dtype=int64), array([0, 0, 0, 0, 0, 0], dtype=int64), array([0, 0, 0, 0, 0, 0], dtype=int64), array([0, 0, 0, 0, 0, 0], dtype=int64), array([0, 0, 0, 0, 0, 0], dtype=int64), array([0, 0, 0, 0, 0, 0], dtype=int64), array([0, 0, 0, 0, 0, 0], dtype=int64), array([0, 0, 0, 0, 0, 0], dtype=int64), array([0, 0, 0, 0, 0, 0], dtype=int64), array([0, 0, 0, 0, 0, 0], dtype=int64), array([0, 0, 0, 0, 0, 0], dtype=int64), array([0, 0, 0, 0, 0, 0], dtype=int64), array([0, 0, 0, 0, 0, 0], dtype=int64), array([0, 0, 0, 0, 0, 0], dtype=int64), array([0, 0, 0, 0, 0, 0], dtype=int64), array([0, 0, 0, 0, 0, 0], dtype=int64), array([0, 0, 0, 0, 0, 0], dtype=int64), array([0, 0, 0, 0, 0, 0], dtype=int64), array([0, 0, 0, 0, 0, 0], dtype=int64), array([0, 0, 0, 0, 0, 0], dtype=int64), array([0, 0, 0, 0, 0, 0], dtype=int64), array([0, 0, 0, 0, 0, 0], dtype=int64), array([0, 0, 0, 0, 0, 0], dtype=int64), array([0, 0, 0, 0, 0, 0], dtype=int64), array([0, 0, 0, 0, 0, 0], dtype=int64), array([0, 0, 0, 0, 0, 0], dtype=int64), array([0, 0, 0, 0, 0, 0], dtype=int64), array([0, 0, 0, 0, 0, 0], dtype=int64), array([0, 0, 0, 0, 0, 0], dtype=int64), array([0, 0, 0, 0, 0, 0], dtype=int64), array([0, 0, 0, 0, 0, 0], dtype=int64), array([0, 0, 0, 0, 0, 0], dtype=int64), array([0, 0, 0, 0, 0, 0], dtype=int64), array([0, 0, 0, 0, 0, 0], dtype=int64), array([0, 0, 0, 0, 0, 0], dtype=int64), array([0, 0, 0, 0, 0, 0], dtype=int64), array([0, 0, 0, 0, 0, 0], dtype=int64), array([0, 0, 0, 0, 0, 0], dtype=int64), array([0, 0, 0, 0, 0, 0], dtype=int64), array([0, 0, 0, 0, 0, 0], dtype=int64), array([0, 0, 0, 0, 0, 0], dtype=int64), array([0, 0, 0, 0, 0, 0], dtype=int64), array([0, 0, 0, 0, 0, 0], dtype=int64), array([0, 0, 0, 0, 0, 0], dtype=int64), array([0, 0, 0, 0, 0, 0], dtype=int64), array([0, 0, 0, 0, 0, 0], dtype=int64), array([0, 0, 0, 0, 0, 0], dtype=int64), array([0, 0, 0, 0, 0, 0], dtype=int64), array([0, 0, 0, 0, 0, 0], dtype=int64), array([0, 0, 0, 0, 0, 0], dtype=int64), array([0, 0, 0, 0, 0, 0], dtype=int64), array([0, 0, 0, 0, 0, 0], dtype=int64), array([0, 0, 0, 0, 0, 0], dtype=int64), array([0, 0, 0, 0, 0, 0], dtype=int64), array([0, 0, 0, 0, 0, 0], dtype=int64), array([0, 0, 0, 0, 0, 0], dtype=int64), array([0, 0, 0, 0, 0, 0], dtype=int64), array([0, 0, 0, 0, 0, 0], dtype=int64), array([1, 0, 0, 1, 0, 0], dtype=int64), array([0, 0, 0, 0, 0, 0], dtype=int64), array([0, 0, 0, 0, 0, 0], dtype=int64), array([0, 0, 0, 0, 0, 0], dtype=int64), array([0, 0, 0, 0, 0, 0], dtype=int64), array([0, 0, 0, 0, 0, 0], dtype=int64), array([0, 0, 0, 0, 0, 0], dtype=int64), array([0, 0, 0, 0, 0, 0], dtype=int64), array([0, 0, 0, 0, 0, 0], dtype=int64), array([0, 0, 0, 0, 0, 0], dtype=int64), array([0, 0, 0, 0, 0, 0], dtype=int64), array([0, 0, 0, 0, 0, 0], dtype=int64), array([0, 0, 0, 0, 0, 0], dtype=int64), array([0, 0, 0, 0, 0, 0], dtype=int64), array([0, 0, 0, 0, 0, 0], dtype=int64), array([0, 0, 0, 0, 0, 0], dtype=int64), array([0, 0, 0, 0, 0, 0], dtype=int64), array([0, 0, 0, 0, 0, 0], dtype=int64), array([0, 0, 0, 0, 0, 0], dtype=int64), array([0, 0, 0, 0, 0, 0], dtype=int64), array([0, 0, 0, 0, 0, 0], dtype=int64), array([0, 0, 0, 0, 0, 0], dtype=int64), array([0, 0, 0, 0, 0, 0], dtype=int64), array([0, 0, 0, 0, 0, 0], dtype=int64), array([0, 0, 0, 0, 0, 0], dtype=int64), array([0, 0, 0, 0, 0, 0], dtype=int64), array([0, 0, 0, 0, 0, 0], dtype=int64), array([0, 0, 0, 0, 0, 0], dtype=int64), array([0, 0, 0, 0, 0, 0], dtype=int64), array([0, 0, 0, 0, 0, 0], dtype=int64), array([0, 0, 0, 0, 0, 0], dtype=int64), array([0, 0, 0, 0, 0, 0], dtype=int64), array([0, 0, 0, 0, 0, 0], dtype=int64), array([0, 0, 0, 0, 0, 0], dtype=int64), array([0, 0, 0, 0, 0, 0], dtype=int64), array([0, 0, 0, 0, 0, 0], dtype=int64), array([0, 0, 0, 0, 0, 0], dtype=int64), array([0, 0, 0, 0, 0, 0], dtype=int64), array([0, 0, 0, 0, 0, 0], dtype=int64), array([0, 0, 0, 0, 0, 0], dtype=int64), array([0, 0, 0, 0, 0, 0], dtype=int64), array([0, 0, 0, 0, 0, 0], dtype=int64), array([1, 0, 0, 0, 1, 0], dtype=int64), array([0, 0, 0, 0, 0, 0], dtype=int64), array([0, 0, 0, 0, 0, 0], dtype=int64), array([0, 0, 0, 0, 0, 0], dtype=int64), array([0, 0, 0, 0, 0, 0], dtype=int64), array([0, 0, 0, 0, 0, 0], dtype=int64), array([0, 0, 0, 0, 0, 0], dtype=int64), array([0, 0, 0, 0, 0, 0], dtype=int64), array([0, 0, 0, 0, 0, 0], dtype=int64), array([0, 0, 0, 0, 0, 0], dtype=int64), array([0, 0, 0, 0, 0, 0], dtype=int64), array([0, 0, 0, 0, 0, 0], dtype=int64), array([0, 0, 0, 0, 0, 0], dtype=int64), array([0, 0, 0, 0, 0, 0], dtype=int64), array([0, 0, 0, 0, 0, 0], dtype=int64), array([0, 0, 0, 0, 0, 0], dtype=int64), array([0, 0, 0, 0, 0, 0], dtype=int64), array([0, 0, 0, 0, 0, 0], dtype=int64), array([0, 0, 0, 0, 0, 0], dtype=int64), array([0, 0, 0, 0, 0, 0], dtype=int64), array([0, 0, 0, 0, 0, 0], dtype=int64), array([1, 0, 0, 0, 1, 0], dtype=int64), array([0, 0, 0, 0, 0, 0], dtype=int64), array([0, 0, 0, 0, 0, 0], dtype=int64), array([0, 0, 0, 0, 0, 0], dtype=int64), array([0, 0, 0, 0, 0, 0], dtype=int64), array([0, 0, 0, 0, 0, 0], dtype=int64), array([0, 0, 0, 0, 0, 0], dtype=int64), array([0, 0, 0, 0, 0, 0], dtype=int64), array([1, 0, 0, 0, 0, 0], dtype=int64), array([0, 0, 0, 0, 0, 0], dtype=int64), array([0, 0, 0, 0, 0, 0], dtype=int64), array([0, 0, 0, 0, 0, 0], dtype=int64), array([1, 0, 0, 1, 0, 0], dtype=int64), array([0, 0, 0, 0, 0, 0], dtype=int64), array([0, 0, 0, 0, 0, 0], dtype=int64), array([0, 0, 0, 0, 0, 0], dtype=int64), array([0, 0, 0, 0, 0, 0], dtype=int64), array([1, 0, 1, 0, 0, 0], dtype=int64), array([0, 0, 0, 0, 0, 0], dtype=int64), array([0, 0, 0, 0, 0, 0], dtype=int64), array([0, 0, 0, 0, 0, 0], dtype=int64), array([0, 0, 0, 0, 0, 0], dtype=int64), array([0, 0, 0, 0, 0, 0], dtype=int64), array([0, 0, 0, 0, 0, 0], dtype=int64), array([0, 0, 0, 0, 0, 0], dtype=int64), array([0, 0, 0, 0, 0, 0], dtype=int64), array([0, 0, 0, 0, 0, 0], dtype=int64), array([0, 0, 0, 0, 0, 0], dtype=int64), array([0, 0, 0, 0, 0, 0], dtype=int64), array([0, 0, 0, 0, 0, 0], dtype=int64), array([0, 0, 0, 0, 0, 0], dtype=int64), array([0, 0, 0, 0, 0, 0], dtype=int64), array([0, 0, 0, 0, 0, 0], dtype=int64), array([0, 0, 0, 0, 0, 0], dtype=int64), array([0, 0, 0, 0, 0, 0], dtype=int64), array([0, 0, 0, 0, 0, 0], dtype=int64), array([0, 0, 0, 0, 0, 0], dtype=int64), array([0, 0, 0, 0, 0, 0], dtype=int64), array([0, 0, 0, 0, 0, 0], dtype=int64), array([0, 0, 0, 0, 0, 0], dtype=int64), array([0, 0, 0, 0, 0, 0], dtype=int64), array([0, 0, 0, 0, 0, 0], dtype=int64), array([0, 0, 0, 0, 0, 0], dtype=int64), array([0, 0, 0, 0, 0, 0], dtype=int64), array([0, 0, 0, 0, 0, 0], dtype=int64), array([0, 0, 0, 0, 0, 0], dtype=int64), array([0, 0, 0, 0, 0, 0], dtype=int64), array([0, 0, 0, 0, 0, 0], dtype=int64), array([0, 0, 0, 0, 0, 0], dtype=int64), array([0, 0, 0, 0, 0, 0], dtype=int64), array([0, 0, 0, 0, 0, 0], dtype=int64), array([0, 0, 0, 0, 0, 0], dtype=int64), array([0, 0, 0, 0, 0, 0], dtype=int64), array([0, 0, 0, 0, 0, 0], dtype=int64), array([0, 0, 0, 0, 0, 0], dtype=int64), array([0, 0, 0, 0, 0, 0], dtype=int64), array([0, 0, 0, 0, 0, 0], dtype=int64), array([0, 0, 0, 0, 0, 0], dtype=int64), array([0, 0, 0, 0, 0, 0], dtype=int64), array([0, 0, 0, 0, 0, 0], dtype=int64), array([0, 0, 0, 0, 0, 0], dtype=int64), array([0, 0, 0, 0, 0, 0], dtype=int64), array([0, 0, 0, 0, 0, 0], dtype=int64), array([0, 0, 0, 0, 0, 0], dtype=int64), array([0, 0, 0, 0, 0, 0], dtype=int64), array([0, 0, 0, 0, 0, 0], dtype=int64), array([0, 0, 0, 0, 0, 0], dtype=int64), array([0, 0, 0, 0, 0, 0], dtype=int64), array([0, 0, 0, 0, 0, 0], dtype=int64), array([0, 0, 0, 0, 0, 0], dtype=int64), array([0, 0, 0, 0, 0, 0], dtype=int64), array([0, 0, 0, 0, 0, 0], dtype=int64), array([0, 0, 0, 0, 0, 0], dtype=int64), array([0, 0, 0, 0, 0, 0], dtype=int64), array([0, 0, 0, 0, 0, 0], dtype=int64), array([0, 0, 0, 0, 0, 0], dtype=int64), array([0, 0, 0, 0, 0, 0], dtype=int64), array([0, 0, 0, 0, 0, 0], dtype=int64), array([0, 0, 0, 0, 0, 0], dtype=int64), array([0, 0, 0, 0, 0, 0], dtype=int64), array([0, 0, 0, 0, 0, 0], dtype=int64), array([0, 0, 0, 0, 0, 0], dtype=int64), array([0, 0, 0, 0, 0, 0], dtype=int64), array([0, 0, 0, 0, 0, 0], dtype=int64), array([0, 0, 0, 0, 0, 0], dtype=int64), array([0, 0, 0, 0, 0, 0], dtype=int64), array([0, 0, 0, 0, 0, 0], dtype=int64), array([0, 0, 0, 0, 0, 0], dtype=int64), array([0, 0, 0, 0, 0, 0], dtype=int64), array([0, 0, 0, 0, 0, 0], dtype=int64), array([0, 0, 0, 0, 0, 0], dtype=int64), array([0, 0, 0, 0, 0, 0], dtype=int64), array([0, 0, 0, 0, 0, 0], dtype=int64), array([0, 0, 0, 0, 0, 0], dtype=int64), array([0, 0, 0, 0, 0, 0], dtype=int64), array([0, 0, 0, 0, 0, 0], dtype=int64), array([0, 0, 0, 0, 0, 0], dtype=int64), array([0, 0, 0, 0, 0, 0], dtype=int64), array([0, 0, 0, 0, 0, 0], dtype=int64), array([0, 0, 0, 0, 0, 0], dtype=int64), array([1, 0, 0, 1, 0, 0], dtype=int64), array([0, 0, 0, 0, 0, 0], dtype=int64), array([0, 0, 0, 0, 0, 0], dtype=int64), array([0, 0, 0, 0, 0, 0], dtype=int64), array([0, 0, 0, 0, 0, 0], dtype=int64), array([0, 0, 0, 0, 0, 0], dtype=int64), array([0, 0, 0, 0, 0, 0], dtype=int64), array([0, 0, 0, 0, 0, 0], dtype=int64), array([0, 0, 0, 0, 0, 0], dtype=int64), array([0, 0, 0, 0, 0, 0], dtype=int64), array([0, 0, 0, 0, 0, 0], dtype=int64), array([0, 0, 0, 0, 0, 0], dtype=int64), array([0, 0, 0, 0, 0, 0], dtype=int64), array([0, 0, 0, 0, 0, 0], dtype=int64), array([0, 0, 0, 0, 0, 0], dtype=int64), array([0, 0, 0, 0, 0, 0], dtype=int64), array([0, 0, 0, 0, 0, 0], dtype=int64), array([0, 0, 0, 0, 0, 0], dtype=int64), array([0, 0, 0, 0, 0, 0], dtype=int64), array([0, 0, 0, 0, 0, 0], dtype=int64), array([0, 0, 0, 0, 0, 0], dtype=int64), array([0, 0, 0, 0, 0, 0], dtype=int64), array([0, 0, 0, 0, 0, 0], dtype=int64), array([0, 0, 0, 0, 0, 0], dtype=int64), array([0, 0, 0, 0, 0, 0], dtype=int64), array([0, 0, 0, 0, 0, 0], dtype=int64), array([0, 0, 0, 0, 0, 0], dtype=int64), array([0, 0, 0, 0, 0, 0], dtype=int64), array([0, 0, 0, 0, 0, 0], dtype=int64), array([1, 0, 0, 1, 0, 0], dtype=int64), array([0, 0, 0, 0, 0, 0], dtype=int64), array([0, 0, 0, 0, 0, 0], dtype=int64), array([0, 0, 0, 0, 0, 0], dtype=int64), array([0, 0, 0, 0, 0, 0], dtype=int64), array([0, 0, 0, 0, 0, 0], dtype=int64), array([0, 0, 0, 0, 0, 0], dtype=int64), array([0, 0, 0, 0, 0, 0], dtype=int64), array([0, 0, 0, 0, 0, 0], dtype=int64), array([0, 0, 0, 0, 0, 0], dtype=int64), array([0, 0, 0, 0, 0, 0], dtype=int64), array([0, 0, 0, 0, 0, 0], dtype=int64), array([0, 0, 0, 0, 0, 0], dtype=int64), array([0, 0, 0, 0, 0, 0], dtype=int64), array([0, 0, 0, 0, 0, 0], dtype=int64), array([0, 0, 0, 0, 0, 0], dtype=int64), array([0, 0, 0, 0, 0, 0], dtype=int64), array([0, 0, 0, 0, 0, 0], dtype=int64), array([0, 0, 0, 0, 0, 0], dtype=int64), array([0, 0, 0, 0, 0, 0], dtype=int64), array([0, 0, 0, 0, 0, 0], dtype=int64), array([0, 0, 0, 0, 0, 0], dtype=int64), array([0, 0, 0, 0, 0, 0], dtype=int64), array([0, 0, 0, 0, 0, 0], dtype=int64), array([0, 0, 0, 0, 0, 0], dtype=int64), array([0, 0, 0, 0, 0, 0], dtype=int64), array([0, 0, 0, 0, 0, 0], dtype=int64), array([0, 0, 0, 0, 0, 0], dtype=int64), array([0, 0, 0, 0, 0, 0], dtype=int64), array([0, 0, 0, 0, 0, 0], dtype=int64), array([0, 0, 0, 0, 0, 0], dtype=int64), array([0, 0, 0, 0, 0, 0], dtype=int64), array([0, 0, 0, 0, 0, 0], dtype=int64), array([0, 0, 0, 0, 0, 0], dtype=int64), array([0, 0, 0, 0, 0, 0], dtype=int64), array([0, 0, 0, 0, 0, 0], dtype=int64), array([0, 0, 0, 0, 0, 0], dtype=int64), array([0, 0, 0, 0, 0, 0], dtype=int64), array([0, 0, 0, 0, 0, 0], dtype=int64), array([0, 0, 0, 0, 0, 0], dtype=int64), array([0, 0, 0, 0, 0, 0], dtype=int64), array([0, 0, 0, 0, 0, 0], dtype=int64), array([0, 0, 0, 0, 0, 0], dtype=int64), array([0, 0, 0, 0, 0, 0], dtype=int64), array([0, 0, 0, 0, 0, 0], dtype=int64), array([0, 0, 0, 0, 0, 0], dtype=int64), array([0, 0, 0, 0, 0, 0], dtype=int64), array([0, 0, 0, 0, 0, 0], dtype=int64), array([0, 0, 0, 0, 0, 0], dtype=int64), array([0, 0, 0, 0, 0, 0], dtype=int64), array([0, 0, 0, 0, 0, 0], dtype=int64), array([0, 0, 0, 0, 0, 0], dtype=int64), array([0, 0, 0, 0, 0, 0], dtype=int64), array([0, 0, 0, 0, 0, 0], dtype=int64), array([0, 0, 0, 0, 0, 0], dtype=int64), array([0, 0, 0, 0, 0, 0], dtype=int64), array([0, 0, 0, 0, 0, 0], dtype=int64), array([0, 0, 0, 0, 0, 0], dtype=int64), array([0, 0, 0, 0, 0, 0], dtype=int64), array([0, 0, 0, 0, 0, 0], dtype=int64), array([0, 0, 0, 0, 0, 0], dtype=int64), array([0, 0, 0, 0, 0, 0], dtype=int64), array([0, 0, 0, 0, 0, 0], dtype=int64), array([0, 0, 0, 0, 0, 0], dtype=int64), array([0, 0, 0, 0, 0, 0], dtype=int64), array([0, 0, 0, 0, 0, 0], dtype=int64), array([0, 0, 0, 0, 0, 0], dtype=int64), array([0, 0, 0, 0, 0, 0], dtype=int64), array([0, 0, 0, 0, 0, 0], dtype=int64), array([0, 0, 0, 0, 0, 0], dtype=int64), array([0, 0, 0, 0, 0, 0], dtype=int64), array([0, 0, 0, 0, 0, 0], dtype=int64), array([0, 0, 0, 0, 0, 0], dtype=int64), array([0, 0, 0, 0, 0, 0], dtype=int64), array([0, 0, 0, 0, 0, 0], dtype=int64), array([0, 0, 0, 0, 0, 0], dtype=int64), array([0, 0, 0, 0, 0, 0], dtype=int64), array([0, 0, 0, 0, 0, 0], dtype=int64), array([0, 0, 0, 0, 0, 0], dtype=int64), array([0, 0, 0, 0, 0, 0], dtype=int64), array([0, 0, 0, 0, 0, 0], dtype=int64), array([0, 0, 0, 0, 0, 0], dtype=int64), array([0, 0, 0, 0, 0, 0], dtype=int64), array([0, 0, 0, 0, 0, 0], dtype=int64), array([0, 0, 0, 0, 0, 0], dtype=int64), array([0, 0, 0, 0, 0, 0], dtype=int64), array([0, 0, 0, 0, 0, 0], dtype=int64), array([0, 0, 0, 0, 0, 0], dtype=int64), array([0, 0, 0, 0, 0, 0], dtype=int64), array([0, 0, 0, 0, 0, 0], dtype=int64), array([0, 0, 0, 0, 0, 0], dtype=int64), array([0, 0, 0, 0, 0, 0], dtype=int64), array([0, 0, 0, 0, 0, 0], dtype=int64), array([0, 0, 0, 0, 0, 0], dtype=int64), array([0, 0, 0, 0, 0, 0], dtype=int64), array([0, 0, 0, 0, 0, 0], dtype=int64), array([0, 0, 0, 0, 0, 0], dtype=int64), array([0, 0, 0, 0, 0, 0], dtype=int64), array([0, 0, 0, 0, 0, 0], dtype=int64), array([0, 0, 0, 0, 0, 0], dtype=int64), array([0, 0, 0, 0, 0, 0], dtype=int64), array([0, 0, 0, 0, 0, 0], dtype=int64), array([0, 0, 0, 0, 0, 0], dtype=int64), array([0, 0, 0, 0, 0, 0], dtype=int64), array([0, 0, 0, 0, 0, 0], dtype=int64), array([0, 0, 0, 0, 0, 0], dtype=int64), array([0, 0, 0, 0, 0, 0], dtype=int64), array([0, 0, 0, 0, 0, 0], dtype=int64), array([0, 0, 0, 0, 0, 0], dtype=int64), array([0, 0, 0, 0, 0, 0], dtype=int64), array([0, 0, 0, 0, 0, 0], dtype=int64), array([0, 0, 0, 0, 0, 0], dtype=int64), array([0, 0, 0, 0, 0, 0], dtype=int64), array([0, 0, 0, 0, 0, 0], dtype=int64), array([0, 0, 0, 0, 0, 0], dtype=int64), array([0, 0, 0, 0, 0, 0], dtype=int64), array([0, 0, 0, 0, 0, 0], dtype=int64), array([0, 0, 0, 0, 0, 0], dtype=int64), array([0, 0, 0, 0, 0, 0], dtype=int64), array([0, 0, 0, 0, 0, 0], dtype=int64), array([0, 0, 0, 0, 0, 0], dtype=int64), array([0, 0, 0, 0, 0, 0], dtype=int64), array([0, 0, 0, 0, 0, 0], dtype=int64), array([0, 0, 0, 0, 0, 0], dtype=int64), array([0, 0, 0, 0, 0, 0], dtype=int64), array([0, 0, 0, 0, 0, 0], dtype=int64), array([0, 0, 0, 0, 0, 0], dtype=int64), array([0, 0, 0, 0, 0, 0], dtype=int64), array([0, 0, 0, 0, 0, 0], dtype=int64), array([0, 0, 0, 0, 0, 0], dtype=int64), array([0, 0, 0, 0, 0, 0], dtype=int64), array([0, 0, 0, 0, 0, 0], dtype=int64), array([0, 0, 0, 0, 0, 0], dtype=int64), array([0, 0, 0, 0, 0, 0], dtype=int64), array([0, 0, 0, 0, 0, 0], dtype=int64), array([0, 0, 0, 0, 0, 0], dtype=int64), array([0, 0, 0, 0, 0, 0], dtype=int64), array([0, 0, 0, 0, 0, 0], dtype=int64), array([0, 0, 0, 0, 0, 0], dtype=int64), array([0, 0, 0, 0, 0, 0], dtype=int64), array([0, 0, 0, 0, 0, 0], dtype=int64), array([0, 0, 0, 0, 0, 0], dtype=int64), array([0, 0, 0, 0, 0, 0], dtype=int64), array([0, 0, 0, 0, 0, 0], dtype=int64), array([0, 0, 0, 0, 0, 0], dtype=int64), array([0, 0, 0, 0, 0, 0], dtype=int64), array([0, 0, 0, 0, 0, 0], dtype=int64), array([0, 0, 0, 0, 0, 0], dtype=int64), array([0, 0, 0, 0, 0, 0], dtype=int64), array([0, 0, 0, 0, 0, 0], dtype=int64), array([0, 0, 0, 0, 0, 0], dtype=int64), array([0, 0, 0, 0, 0, 0], dtype=int64), array([0, 0, 0, 0, 0, 0], dtype=int64), array([0, 0, 0, 0, 0, 0], dtype=int64), array([0, 0, 0, 0, 0, 0], dtype=int64), array([0, 0, 0, 0, 0, 0], dtype=int64), array([0, 0, 0, 0, 0, 0], dtype=int64), array([0, 0, 0, 0, 0, 0], dtype=int64), array([0, 0, 0, 0, 0, 0], dtype=int64), array([0, 0, 0, 0, 0, 0], dtype=int64), array([0, 0, 0, 0, 0, 0], dtype=int64), array([0, 0, 0, 0, 0, 0], dtype=int64), array([0, 0, 0, 0, 0, 0], dtype=int64), array([0, 0, 0, 0, 0, 0], dtype=int64), array([0, 0, 0, 0, 0, 0], dtype=int64), array([0, 0, 0, 0, 0, 0], dtype=int64), array([0, 0, 0, 0, 0, 0], dtype=int64), array([0, 0, 0, 0, 0, 0], dtype=int64), array([0, 0, 0, 0, 0, 0], dtype=int64), array([0, 0, 0, 0, 0, 0], dtype=int64), array([0, 0, 0, 0, 0, 0], dtype=int64), array([0, 0, 0, 0, 0, 0], dtype=int64), array([0, 0, 0, 0, 0, 0], dtype=int64), array([0, 0, 0, 0, 0, 0], dtype=int64), array([0, 0, 0, 0, 0, 0], dtype=int64), array([0, 0, 0, 0, 0, 0], dtype=int64), array([0, 0, 0, 0, 0, 0], dtype=int64), array([0, 0, 0, 0, 0, 0], dtype=int64), array([0, 0, 0, 0, 0, 0], dtype=int64), array([0, 0, 0, 0, 0, 0], dtype=int64), array([0, 0, 0, 0, 0, 0], dtype=int64), array([0, 0, 0, 0, 0, 0], dtype=int64), array([0, 0, 0, 0, 0, 0], dtype=int64), array([0, 0, 0, 0, 0, 0], dtype=int64), array([0, 0, 0, 0, 0, 0], dtype=int64), array([0, 0, 0, 0, 0, 0], dtype=int64), array([0, 0, 0, 0, 0, 0], dtype=int64), array([0, 0, 0, 0, 0, 0], dtype=int64), array([0, 0, 0, 0, 0, 0], dtype=int64), array([0, 0, 0, 0, 0, 0], dtype=int64), array([0, 0, 0, 0, 0, 0], dtype=int64), array([0, 0, 0, 0, 0, 0], dtype=int64), array([0, 0, 0, 0, 0, 0], dtype=int64), array([0, 0, 0, 0, 0, 0], dtype=int64), array([0, 0, 0, 0, 0, 0], dtype=int64), array([0, 0, 0, 0, 0, 0], dtype=int64), array([0, 0, 0, 0, 0, 0], dtype=int64), array([0, 0, 0, 0, 0, 0], dtype=int64), array([0, 0, 0, 0, 0, 0], dtype=int64), array([0, 0, 0, 0, 0, 0], dtype=int64), array([0, 0, 0, 0, 0, 0], dtype=int64), array([0, 0, 0, 0, 0, 0], dtype=int64), array([0, 0, 0, 0, 0, 0], dtype=int64), array([0, 0, 0, 0, 0, 0], dtype=int64), array([0, 0, 0, 0, 0, 0], dtype=int64), array([0, 0, 0, 0, 0, 0], dtype=int64), array([0, 0, 0, 0, 0, 0], dtype=int64), array([0, 0, 0, 0, 0, 0], dtype=int64), array([0, 0, 0, 0, 0, 0], dtype=int64), array([0, 0, 0, 0, 0, 0], dtype=int64), array([0, 0, 0, 0, 0, 0], dtype=int64), array([0, 0, 0, 0, 0, 0], dtype=int64), array([0, 0, 0, 0, 0, 0], dtype=int64), array([0, 0, 0, 0, 0, 0], dtype=int64), array([0, 0, 0, 0, 0, 0], dtype=int64), array([0, 0, 0, 0, 0, 0], dtype=int64), array([0, 0, 0, 0, 0, 0], dtype=int64), array([0, 0, 0, 0, 0, 0], dtype=int64), array([0, 0, 0, 0, 0, 0], dtype=int64), array([0, 0, 0, 0, 0, 0], dtype=int64), array([0, 0, 0, 0, 0, 0], dtype=int64), array([0, 0, 0, 0, 0, 0], dtype=int64), array([0, 0, 0, 0, 0, 0], dtype=int64), array([0, 0, 0, 0, 0, 0], dtype=int64), array([0, 0, 0, 0, 0, 0], dtype=int64), array([0, 0, 0, 0, 0, 0], dtype=int64), array([0, 0, 0, 0, 0, 0], dtype=int64), array([0, 0, 0, 0, 0, 0], dtype=int64), array([0, 0, 0, 0, 0, 0], dtype=int64), array([0, 0, 0, 0, 0, 0], dtype=int64), array([0, 0, 0, 0, 0, 0], dtype=int64), array([0, 0, 0, 0, 0, 0], dtype=int64), array([0, 0, 0, 0, 0, 0], dtype=int64), array([0, 0, 0, 0, 0, 0], dtype=int64), array([0, 0, 0, 0, 0, 0], dtype=int64), array([0, 0, 0, 0, 0, 0], dtype=int64), array([0, 0, 0, 0, 0, 0], dtype=int64), array([0, 0, 0, 0, 0, 0], dtype=int64), array([0, 0, 0, 0, 0, 0], dtype=int64), array([0, 0, 0, 0, 0, 0], dtype=int64), array([0, 0, 0, 0, 0, 0], dtype=int64), array([0, 0, 0, 0, 0, 0], dtype=int64), array([0, 0, 0, 0, 0, 0], dtype=int64), array([0, 0, 0, 0, 0, 0], dtype=int64), array([0, 0, 0, 0, 0, 0], dtype=int64), array([0, 0, 0, 0, 0, 0], dtype=int64), array([0, 0, 0, 0, 0, 0], dtype=int64), array([0, 0, 0, 0, 0, 0], dtype=int64), array([0, 0, 0, 0, 0, 0], dtype=int64), array([0, 0, 0, 0, 0, 0], dtype=int64), array([0, 0, 0, 0, 0, 0], dtype=int64), array([0, 0, 0, 0, 0, 0], dtype=int64), array([0, 0, 0, 0, 0, 0], dtype=int64), array([0, 0, 0, 0, 0, 0], dtype=int64), array([0, 0, 0, 0, 0, 0], dtype=int64), array([0, 0, 0, 0, 0, 0], dtype=int64), array([0, 0, 0, 0, 0, 0], dtype=int64), array([0, 0, 0, 0, 0, 0], dtype=int64), array([0, 0, 0, 0, 0, 0], dtype=int64), array([0, 0, 0, 0, 0, 0], dtype=int64), array([0, 0, 0, 0, 0, 0], dtype=int64), array([0, 0, 0, 0, 0, 0], dtype=int64), array([0, 0, 0, 0, 0, 0], dtype=int64), array([0, 0, 0, 0, 0, 0], dtype=int64), array([0, 0, 0, 0, 0, 0], dtype=int64), array([0, 0, 0, 0, 0, 0], dtype=int64), array([0, 0, 0, 0, 0, 0], dtype=int64), array([0, 0, 0, 0, 0, 0], dtype=int64), array([0, 0, 0, 0, 0, 0], dtype=int64), array([0, 0, 0, 0, 0, 0], dtype=int64), array([0, 0, 0, 0, 0, 0], dtype=int64), array([0, 0, 0, 0, 0, 0], dtype=int64), array([0, 0, 0, 0, 0, 0], dtype=int64), array([0, 0, 0, 0, 0, 0], dtype=int64), array([0, 0, 0, 0, 0, 0], dtype=int64), array([0, 0, 0, 0, 0, 0], dtype=int64), array([1, 0, 0, 0, 0, 0], dtype=int64), array([0, 0, 0, 0, 0, 0], dtype=int64), array([0, 0, 0, 0, 0, 0], dtype=int64), array([0, 0, 0, 0, 0, 0], dtype=int64), array([0, 0, 0, 0, 0, 0], dtype=int64), array([0, 0, 0, 0, 0, 0], dtype=int64), array([0, 0, 0, 0, 0, 0], dtype=int64), array([0, 0, 0, 0, 0, 0], dtype=int64), array([0, 0, 0, 0, 0, 0], dtype=int64), array([0, 0, 0, 0, 0, 0], dtype=int64), array([0, 0, 0, 0, 0, 0], dtype=int64), array([0, 0, 0, 0, 0, 0], dtype=int64), array([0, 0, 0, 0, 0, 0], dtype=int64), array([0, 0, 0, 0, 0, 0], dtype=int64), array([0, 0, 0, 0, 0, 0], dtype=int64), array([0, 0, 0, 0, 0, 0], dtype=int64), array([0, 0, 0, 0, 0, 0], dtype=int64), array([0, 0, 0, 0, 0, 0], dtype=int64), array([0, 0, 0, 0, 0, 0], dtype=int64), array([0, 0, 0, 0, 0, 0], dtype=int64), array([0, 0, 0, 0, 0, 0], dtype=int64), array([0, 0, 0, 0, 0, 0], dtype=int64), array([0, 0, 0, 0, 0, 0], dtype=int64), array([0, 0, 0, 0, 0, 0], dtype=int64), array([0, 0, 0, 0, 0, 0], dtype=int64), array([0, 0, 0, 0, 0, 0], dtype=int64), array([0, 0, 0, 0, 0, 0], dtype=int64), array([0, 0, 0, 0, 0, 0], dtype=int64), array([0, 0, 0, 0, 0, 0], dtype=int64), array([0, 0, 0, 0, 0, 0], dtype=int64), array([0, 0, 0, 0, 0, 0], dtype=int64), array([0, 0, 0, 0, 0, 0], dtype=int64), array([1, 0, 0, 1, 0, 0], dtype=int64), array([0, 0, 0, 0, 0, 0], dtype=int64), array([0, 0, 0, 0, 0, 0], dtype=int64), array([0, 0, 0, 0, 0, 0], dtype=int64), array([0, 0, 0, 0, 0, 0], dtype=int64), array([0, 0, 0, 0, 0, 0], dtype=int64), array([0, 0, 0, 0, 0, 0], dtype=int64), array([0, 0, 0, 0, 0, 0], dtype=int64), array([0, 0, 0, 0, 0, 0], dtype=int64), array([0, 0, 0, 0, 0, 0], dtype=int64), array([0, 0, 0, 0, 0, 0], dtype=int64), array([0, 0, 0, 0, 0, 0], dtype=int64), array([0, 0, 0, 0, 0, 0], dtype=int64), array([0, 0, 0, 0, 0, 0], dtype=int64), array([0, 0, 0, 0, 0, 0], dtype=int64), array([0, 0, 0, 0, 0, 0], dtype=int64), array([0, 0, 0, 0, 0, 0], dtype=int64), array([0, 0, 0, 0, 0, 0], dtype=int64), array([0, 0, 0, 0, 0, 0], dtype=int64), array([0, 0, 0, 0, 0, 0], dtype=int64), array([0, 0, 0, 0, 0, 0], dtype=int64), array([0, 0, 0, 0, 0, 0], dtype=int64), array([0, 0, 0, 0, 0, 0], dtype=int64), array([0, 0, 0, 0, 0, 0], dtype=int64), array([0, 0, 0, 0, 0, 0], dtype=int64), array([0, 0, 0, 0, 0, 0], dtype=int64), array([0, 0, 0, 0, 0, 0], dtype=int64)]\n"
     ]
    }
   ],
   "source": [
    "y_pred = knn_class.predict(x_test)\n",
    "print(list(y_pred))"
   ]
  },
  {
   "cell_type": "code",
   "execution_count": 60,
   "id": "d38d29f4",
   "metadata": {},
   "outputs": [
    {
     "data": {
      "text/plain": [
       "0.9705"
      ]
     },
     "execution_count": 60,
     "metadata": {},
     "output_type": "execute_result"
    }
   ],
   "source": [
    "accuracy_score(y_test,y_pred)"
   ]
  },
  {
   "cell_type": "code",
   "execution_count": 61,
   "id": "a7dbc69e",
   "metadata": {},
   "outputs": [
    {
     "data": {
      "text/plain": [
       "KNeighborsClassifier()"
      ]
     },
     "execution_count": 61,
     "metadata": {},
     "output_type": "execute_result"
    }
   ],
   "source": [
    "knn_class.fit(x,y)"
   ]
  },
  {
   "cell_type": "code",
   "execution_count": 62,
   "id": "4a76e58a",
   "metadata": {},
   "outputs": [
    {
     "data": {
      "text/plain": [
       "0.9694"
      ]
     },
     "execution_count": 62,
     "metadata": {},
     "output_type": "execute_result"
    }
   ],
   "source": [
    "y_prediction= knn_class.predict(x)\n",
    "accuracy_score(y,y_prediction)"
   ]
  },
  {
   "cell_type": "code",
   "execution_count": null,
   "id": "69d7dbe4",
   "metadata": {},
   "outputs": [],
   "source": []
  },
  {
   "cell_type": "code",
   "execution_count": null,
   "id": "131de9fd",
   "metadata": {},
   "outputs": [],
   "source": []
  },
  {
   "cell_type": "code",
   "execution_count": 63,
   "id": "fe39a08f",
   "metadata": {},
   "outputs": [],
   "source": [
    "from sklearn.ensemble import RandomForestClassifier"
   ]
  },
  {
   "cell_type": "code",
   "execution_count": 64,
   "id": "7703708f",
   "metadata": {},
   "outputs": [
    {
     "data": {
      "text/plain": [
       "RandomForestClassifier()"
      ]
     },
     "execution_count": 64,
     "metadata": {},
     "output_type": "execute_result"
    }
   ],
   "source": [
    "rf_clf=RandomForestClassifier()\n",
    "rf_clf.fit(x_train,y_train)"
   ]
  },
  {
   "cell_type": "code",
   "execution_count": 65,
   "id": "c5da7cfc",
   "metadata": {},
   "outputs": [
    {
     "name": "stdout",
     "output_type": "stream",
     "text": [
      "test score is  0.984 train score is  1.0\n"
     ]
    }
   ],
   "source": [
    "test_score= rf_clf.score(x_test,y_test)\n",
    "train_score=rf_clf.score(x_train,y_train)\n",
    "print('test score is ',test_score,'train score is ',train_score)"
   ]
  },
  {
   "cell_type": "code",
   "execution_count": 66,
   "id": "88b64fd9",
   "metadata": {
    "scrolled": true
   },
   "outputs": [
    {
     "data": {
      "text/plain": [
       "RandomForestClassifier()"
      ]
     },
     "execution_count": 66,
     "metadata": {},
     "output_type": "execute_result"
    }
   ],
   "source": [
    "rf_clf=RandomForestClassifier()\n",
    "rf_clf.fit(x,y)"
   ]
  },
  {
   "cell_type": "code",
   "execution_count": 67,
   "id": "72b505a4",
   "metadata": {},
   "outputs": [
    {
     "name": "stdout",
     "output_type": "stream",
     "text": [
      "train score is  1.0\n"
     ]
    }
   ],
   "source": [
    "train_score=rf_clf.score(x,y)\n",
    "print('train score is ',train_score)"
   ]
  },
  {
   "cell_type": "code",
   "execution_count": 69,
   "id": "2c32e46f",
   "metadata": {},
   "outputs": [],
   "source": [
    "import pickle\n",
    "import joblib\n",
    "import os"
   ]
  },
  {
   "cell_type": "code",
   "execution_count": 70,
   "id": "8f1a3ca4",
   "metadata": {
    "scrolled": true
   },
   "outputs": [],
   "source": [
    "with open('RF_model.pkl', 'wb') as rf:\n",
    "    pickle.dump(rf_clf,rf)"
   ]
  },
  {
   "cell_type": "code",
   "execution_count": null,
   "id": "258ce752",
   "metadata": {},
   "outputs": [],
   "source": []
  }
 ],
 "metadata": {
  "kernelspec": {
   "display_name": "Python 3 (ipykernel)",
   "language": "python",
   "name": "python3"
  },
  "language_info": {
   "codemirror_mode": {
    "name": "ipython",
    "version": 3
   },
   "file_extension": ".py",
   "mimetype": "text/x-python",
   "name": "python",
   "nbconvert_exporter": "python",
   "pygments_lexer": "ipython3",
   "version": "3.9.7"
  }
 },
 "nbformat": 4,
 "nbformat_minor": 5
}
